{
  "cells": [
    {
      "cell_type": "markdown",
      "metadata": {
        "colab_type": "text",
        "id": "view-in-github"
      },
      "source": [
        "<a href=\"https://colab.research.google.com/github/jackbowley/MMM/blob/main/MeridianTests/Meridian.ipynb\" target=\"_parent\"><img src=\"https://colab.research.google.com/assets/colab-badge.svg\" alt=\"Open In Colab\"/></a>\n"
      ]
    },
    {
      "cell_type": "markdown",
      "metadata": {
        "id": "yuQtvbG_vILv"
      },
      "source": [
        "<table class=\"tfo-notebook-buttons\" align=\"left\">\n",
        "  <td>\n",
        "    <a target=\"_blank\" href=\"https://colab.research.google.com/github/google/meridian/blob/main/demo/Meridian_Getting_Started.ipynb\"><img src=\"https://www.tensorflow.org/images/colab_logo_32px.png\" />Run in Google Colab</a>\n",
        "  </td>\n",
        "  <td>\n",
        "    <a target=\"_blank\" href=\"https://github.com/google/meridian/blob/main/demo/Meridian_Getting_Started.ipynb\"><img src=\"https://www.tensorflow.org/images/GitHub-Mark-32px.png\" />View source on GitHub</a>\n",
        "  </td>\n",
        "</table>\n"
      ]
    },
    {
      "cell_type": "markdown",
      "metadata": {
        "id": "KqSiFABximWU"
      },
      "source": [
        "### **Running test linear national models through meridian**\n",
        "\n",
        "### reduce price variable to see impact\n"
      ]
    },
    {
      "cell_type": "markdown",
      "metadata": {
        "id": "GicRPam0mUhF"
      },
      "source": [
        "<a name=\"install\"></a>\n",
        "\n",
        "## Step 0: Install\n"
      ]
    },
    {
      "cell_type": "code",
      "execution_count": 2,
      "metadata": {},
      "outputs": [],
      "source": [
        "import sys, os\n",
        "IN_COLAB = ('google.colab' in sys.modules) or ('COLAB_RELEASE_TAG' in os.environ)"
      ]
    },
    {
      "cell_type": "code",
      "execution_count": 3,
      "metadata": {
        "collapsed": true,
        "id": "h1jAk386jF3k"
      },
      "outputs": [
        {
          "name": "stdout",
          "output_type": "stream",
          "text": [
            "Installing: google-meridian\n"
          ]
        }
      ],
      "source": [
        "# Install meridian: from PyPI @ latest release (robust in Colab and local Jupyter)\n",
        "import sys, subprocess\n",
        "pkg = \"google-meridian[colab,and-cuda]\" if IN_COLAB else \"google-meridian\"\n",
        "print(f\"Installing: {pkg}\")\n",
        "try:\n",
        "    subprocess.check_call([sys.executable, \"-m\", \"pip\", \"install\", \"--upgrade\", pkg])\n",
        "except Exception as e:\n",
        "    print(f\"pip install failed for {pkg}: {e}\")"
      ]
    },
    {
      "cell_type": "code",
      "execution_count": 4,
      "metadata": {
        "id": "Fhwt1wzgLwpZ"
      },
      "outputs": [
        {
          "name": "stdout",
          "output_type": "stream",
          "text": [
            "Your runtime has 16.9 gigabytes of available RAM\n",
            "\n",
            "Num GPUs Available:  0\n",
            "Num CPUs Available:  1\n"
          ]
        }
      ],
      "source": [
        "import arviz as az\n",
        "import IPython\n",
        "from meridian import constants\n",
        "from meridian.analysis import analyzer\n",
        "from meridian.analysis import formatter\n",
        "from meridian.analysis import optimizer\n",
        "from meridian.analysis import summarizer\n",
        "from meridian.analysis import visualizer\n",
        "from meridian.data import data_frame_input_data_builder as data_builder\n",
        "from meridian.data import test_utils\n",
        "from meridian.model import model\n",
        "from meridian.model import prior_distribution\n",
        "from meridian.model import spec\n",
        "import numpy as np\n",
        "import pandas as pd\n",
        "# check if GPU is available\n",
        "from psutil import virtual_memory\n",
        "import tensorflow as tf\n",
        "import tensorflow_probability as tfp\n",
        "\n",
        "if IN_COLAB:\n",
        "    from google.colab import drive\n",
        "\n",
        "\n",
        "ram_gb = virtual_memory().total / 1e9\n",
        "print('Your runtime has {:.1f} gigabytes of available RAM\\n'.format(ram_gb))\n",
        "print(\n",
        "    'Num GPUs Available: ',\n",
        "    len(tf.config.experimental.list_physical_devices('GPU')),\n",
        ")\n",
        "print(\n",
        "    'Num CPUs Available: ',\n",
        "    len(tf.config.experimental.list_physical_devices('CPU')),\n",
        ")\n"
      ]
    },
    {
      "cell_type": "markdown",
      "metadata": {
        "id": "0qCbVoKMIhEC"
      },
      "source": [
        "### Functions etc.\n"
      ]
    },
    {
      "cell_type": "code",
      "execution_count": 5,
      "metadata": {
        "id": "EBxXU_sQM6Ml"
      },
      "outputs": [],
      "source": [
        "def import_df_from_drive(filepath):\n",
        "  \"\"\"Imports a CSV file from Google Drive into a pandas DataFrame.\n",
        "\n",
        "  Args:\n",
        "    filepath: The full path to the CSV file in Google Drive.\n",
        "\n",
        "  Returns:\n",
        "    A pandas DataFrame containing the data from the CSV file, or None if an error\n",
        "    occurs.\n",
        "  \"\"\"\n",
        "  try:\n",
        "    drive.mount('/content/drive', force_remount=False) # Force remount in case it's already mounted\n",
        "    df = pd.read_csv(filepath)\n",
        "    print(f\"DataFrame loaded successfully from {filepath}\")\n",
        "    return df\n",
        "  except FileNotFoundError:\n",
        "    print(f\"Error: The file was not found at {filepath}\")\n",
        "    return None\n",
        "  except Exception as e:\n",
        "    print(f\"An error occurred while reading the CSV file: {e}\")\n",
        "    return None\n"
      ]
    },
    {
      "cell_type": "code",
      "execution_count": 6,
      "metadata": {},
      "outputs": [],
      "source": [
        "def import_df_from_local(filename, base_dir='results'):\n",
        "    \"\"\"Imports a CSV file from a local 'results' folder into a pandas DataFrame.\n",
        "\n",
        "    Args:\n",
        "      filename: The CSV file name inside the results folder (e.g., 'data.csv').\n",
        "      base_dir: Base directory to look in (defaults to 'results').\n",
        "\n",
        "    Returns:\n",
        "      A pandas DataFrame containing the data from the CSV file, or None if an error occurs.\n",
        "    \"\"\"\n",
        "    try:\n",
        "        if not filename:\n",
        "            raise ValueError(\"filename must be provided, e.g., 'data.csv'\")\n",
        "        local_path = os.path.join(base_dir, filename)\n",
        "        if not os.path.isabs(local_path):\n",
        "            local_path = os.path.abspath(local_path)\n",
        "        df = pd.read_csv(local_path)\n",
        "        print(f\"DataFrame loaded successfully from {local_path}\")\n",
        "        return df\n",
        "    except FileNotFoundError:\n",
        "        print(f\"Error: The file was not found at {local_path}\")\n",
        "        return None\n",
        "    except Exception as e:\n",
        "        print(f\"An error occurred while reading the CSV file: {e}\")\n",
        "        return None\n"
      ]
    },
    {
      "cell_type": "markdown",
      "metadata": {
        "id": "kiM0UrN6qbIP"
      },
      "source": [
        "<a name=\"load-data\"></a>\n",
        "\n",
        "## Step 1: Load the data\n"
      ]
    },
    {
      "cell_type": "markdown",
      "metadata": {
        "id": "o8IUP4VCLuf3"
      },
      "source": [
        "### 1\\.1 Load Data\n"
      ]
    },
    {
      "cell_type": "code",
      "execution_count": 7,
      "metadata": {
        "id": "03399c0e"
      },
      "outputs": [
        {
          "name": "stdout",
          "output_type": "stream",
          "text": [
            "DataFrame loaded successfully from c:\\Users\\User\\repos\\MMM\\MeridianTests\\results\\data_add.csv\n",
            "DataFrame loaded successfully from c:\\Users\\User\\repos\\MMM\\MeridianTests\\results\\var_spec_add.csv\n"
          ]
        }
      ],
      "source": [
        "\n",
        "# Define the file path to your CSV file in Google Drive.\n",
        "if IN_COLAB:\n",
        "    base_dir = '/content/drive/MyDrive/work/MMM'\n",
        "    filename = 'data_add.csv'\n",
        "    df_data = import_df_from_drive(os.path.join(base_dir, filename))\n",
        "    filename= 'var_spec_add.csv'\n",
        "    df_var_spec = import_df_from_drive(os.path.join(base_dir, filename))\n",
        "    df_var_spec.head()\n",
        "else:\n",
        "    base_dir = 'results'\n",
        "    filename = 'data_add.csv'\n",
        "    df_data = import_df_from_local(filename, base_dir=base_dir)\n",
        "    filename = 'var_spec_add.csv'\n",
        "    df_var_spec = import_df_from_local(filename, base_dir=base_dir)"
      ]
    },
    {
      "cell_type": "code",
      "execution_count": 8,
      "metadata": {
        "id": "Dxl0HWZnsxuo"
      },
      "outputs": [],
      "source": [
        "df = df_data.copy()\n",
        "df = df.dropna(subset=['svol_xf'])\n",
        "df = df.rename(columns={'Date': 'time'})\n",
        "start_date = '2020-06-02'\n",
        "end_date = '2024-08-27'\n",
        "df = df[(df['time'] >= start_date) & (df['time'] <= end_date)]"
      ]
    },
    {
      "cell_type": "code",
      "execution_count": null,
      "metadata": {},
      "outputs": [],
      "source": [
        "## half the price and see the impact\n",
        "df['price_se_xf'] = df['price_se_xf'] / 2"
      ]
    },
    {
      "cell_type": "markdown",
      "metadata": {
        "id": "8JBDZzl80BrY"
      },
      "source": [
        "2\\. Load Data using DataFrameInputDataBuilder\n"
      ]
    },
    {
      "cell_type": "code",
      "execution_count": 24,
      "metadata": {
        "id": "4qdTSk4a0znn"
      },
      "outputs": [],
      "source": [
        "builder = data_builder.DataFrameInputDataBuilder(\n",
        "    kpi_type='non_revenue',\n",
        "    default_kpi_column='svol_xf',\n",
        "    default_revenue_per_kpi_column='price_se_xf',\n",
        ")\n",
        "\n",
        "controls = [\n",
        "    \"d_jan\",\"d_feb\",\"d_mar\",\"d_apr\",\"d_may\",\"d_sep\",\"d_oct\",\"d_nov\",\"d_dec\",\n",
        "    \"school_easter\",\"school_ht_feb\",\"school_ht_may\",\"school_ht_oct\",\"payday_25\",\n",
        "    \"bh_ny\",\"bh_xmas\",\"day_valentine\",\"ww_nat_dlta_maxtemp\",\"ww_nat_dlta_rain\",\n",
        "    \"ww_nat_dlta_sun\",\"rsi_nfood_vol_sa\",\"dist_xf\",\n",
        "    \"price_se_xf\",\"prom_tft\",\"pos_fsdu\",\"comp_lor_tot\",\"comp_no7_tot\"\n",
        "]\n",
        "\n",
        "channels = [\n",
        "    \"m_wow_tv\",\"m_wow_olv\",\"m_wow_social\",\"m_amaze_tot\",\"m_celeb_tv\",\"m_celeb_outdoor\",\"m_celeb_display\"\n",
        "]\n",
        "\n",
        "builder = (\n",
        "    builder\n",
        "        .with_kpi(df)\n",
        "        .with_revenue_per_kpi(df)\n",
        "        .with_controls(df, control_cols=controls)\n",
        ")\n",
        "\n",
        "builder = builder.with_media(\n",
        "    df,\n",
        "    media_cols=channels,\n",
        "    media_spend_cols=channels,\n",
        "    media_channels=channels,\n",
        ")\n",
        "\n",
        "data = builder.build()\n"
      ]
    },
    {
      "cell_type": "markdown",
      "metadata": {
        "id": "FO6pDd6f2V1L"
      },
      "source": [
        "<a name=\"configure-model\"></a>\n",
        "\n",
        "## Step 2: Configure the model\n"
      ]
    },
    {
      "cell_type": "code",
      "execution_count": null,
      "metadata": {
        "id": "8XNDd7HX1qTn"
      },
      "outputs": [
        {
          "name": "stderr",
          "output_type": "stream",
          "text": [
            "c:\\Users\\User\\repos\\MMM\\.venv\\Lib\\site-packages\\meridian\\model\\model.py:66: UserWarning: In a nationally aggregated model, the `media_effects_dist` will be reset to `normal`.\n",
            "  warnings.warn(\n"
          ]
        }
      ],
      "source": [
        "roi_mu = 0.2  # Mu for ROI prior for each media channel.\n",
        "roi_sigma = 0.9  # Sigma for ROI prior for each media channel.\n",
        "prior = prior_distribution.PriorDistribution(\n",
        "    roi_m=tfp.distributions.LogNormal(roi_mu, roi_sigma, name=constants.ROI_M)\n",
        ")\n",
        "model_spec = spec.ModelSpec(prior=prior)\n",
        "mmm = model.Meridian(input_data=data, model_spec=model_spec)"
      ]
    },
    {
      "cell_type": "code",
      "execution_count": null,
      "metadata": {
        "id": "KVB3avRdcRNz"
      },
      "outputs": [],
      "source": [
        "%%time\n",
        "mmm.sample_prior(500)\n",
        "mmm.sample_posterior(\n",
        "    n_chains=10, n_adapt=2000, n_burnin=500, n_keep=1000, seed=0\n",
        ")"
      ]
    },
    {
      "cell_type": "code",
      "execution_count": null,
      "metadata": {
        "id": "FfaQQ8-fTw0K"
      },
      "outputs": [],
      "source": [
        "file_path = '/content/drive/MyDrive/work/MMM/saved_mmm_additive_halfPrice.pkl'\n",
        "model.save_mmm(mmm, file_path)"
      ]
    }
  ],
  "metadata": {
    "accelerator": "GPU",
    "colab": {
      "gpuType": "T4",
      "include_colab_link": true,
      "private_outputs": true,
      "provenance": [],
      "toc_visible": true
    },
    "kernelspec": {
      "display_name": ".venv",
      "language": "python",
      "name": "python3"
    },
    "language_info": {
      "codemirror_mode": {
        "name": "ipython",
        "version": 3
      },
      "file_extension": ".py",
      "mimetype": "text/x-python",
      "name": "python",
      "nbconvert_exporter": "python",
      "pygments_lexer": "ipython3",
      "version": "3.12.0"
    }
  },
  "nbformat": 4,
  "nbformat_minor": 0
}
