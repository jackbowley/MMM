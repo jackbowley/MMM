{
 "cells": [
  {
   "cell_type": "code",
   "execution_count": null,
   "id": "51335c85",
   "metadata": {},
   "outputs": [],
   "source": [
    "import pandas as pd\n",
    "# Load data from the 'dataset' sheet, range B6:CY266, with 'Date' as the date column\n",
    "df_data = pd.read_excel(\n",
    "    'data/mock model.xlsx',\n",
    "    sheet_name='DataSet',\n",
    "    usecols='B:CZ',\n",
    "    skiprows=5,\n",
    "    nrows=261,\n",
    "    parse_dates=['Date']\n",
    ").set_index('Date')\n",
    "\n",
    "# df.head()"
   ]
  },
  {
   "cell_type": "code",
   "execution_count": null,
   "id": "81b3ab5d",
   "metadata": {},
   "outputs": [
    {
     "data": {
      "application/vnd.microsoft.datawrangler.viewer.v0+json": {
       "columns": [
        {
         "name": "Variable",
         "rawType": "object",
         "type": "string"
        },
        {
         "name": "Beta_Log",
         "rawType": "float64",
         "type": "float"
        },
        {
         "name": "Carryover",
         "rawType": "float64",
         "type": "float"
        },
        {
         "name": "Log",
         "rawType": "bool",
         "type": "boolean"
        }
       ],
       "ref": "b663aebe-219c-4e6a-80e3-28b3bd30f02e",
       "rows": [
        [
         "C",
         "12.0",
         null,
         "True"
        ],
        [
         "D_JAN",
         "-0.15",
         null,
         "True"
        ],
        [
         "D_FEB",
         "-0.1",
         null,
         "True"
        ],
        [
         "D_MAR",
         "0.08",
         null,
         "True"
        ],
        [
         "D_APR",
         "0.1",
         null,
         "True"
        ],
        [
         "D_MAY",
         "0.1",
         null,
         "True"
        ],
        [
         "D_SEP",
         "0.05",
         null,
         "True"
        ],
        [
         "D_OCT",
         "0.1",
         null,
         "True"
        ],
        [
         "D_NOV",
         "0.15",
         null,
         "True"
        ],
        [
         "D_DEC",
         "-0.2",
         null,
         "True"
        ],
        [
         "SCHOOL_EASTER",
         "-0.05",
         null,
         "True"
        ],
        [
         "SCHOOL_HT_FEB",
         "-0.05",
         null,
         "True"
        ],
        [
         "SCHOOL_HT_MAY",
         "-0.05",
         null,
         "True"
        ],
        [
         "SCHOOL_HT_OCT",
         "-0.05",
         null,
         "True"
        ],
        [
         "PAYDAY_25",
         "0.08",
         null,
         "True"
        ],
        [
         "BH_NY",
         "-0.5",
         null,
         "True"
        ],
        [
         "BH_XMAS",
         "-0.7",
         null,
         "True"
        ],
        [
         "DAY_VALENTINE",
         "0.25",
         "1.0",
         "True"
        ],
        [
         "WW_NAT_DLTA_MAXTEMP",
         "0.01",
         null,
         "True"
        ],
        [
         "WW_NAT_DLTA_RAIN",
         "-0.02",
         null,
         "True"
        ],
        [
         "WW_NAT_DLTA_SUN",
         "0.01",
         null,
         "True"
        ],
        [
         "RSI_NFOOD_VOL_SA",
         "1.0",
         null,
         "True"
        ],
        [
         "Dist_XF",
         "0.9",
         null,
         "True"
        ],
        [
         "Price_SE_XF",
         "-1.8",
         null,
         "True"
        ],
        [
         "Prom_TFT",
         "0.15",
         null,
         "True"
        ],
        [
         "POS_FSDU",
         "0.1",
         null,
         "True"
        ],
        [
         "m_Wow_TV",
         "1.2e-07",
         null,
         "True"
        ],
        [
         "m_Wow_Press",
         "2e-07",
         null,
         "True"
        ],
        [
         "m_Wow_Radio",
         "5e-07",
         null,
         "True"
        ],
        [
         "m_Amaze_Tot",
         "9e-08",
         "9e-08",
         "True"
        ],
        [
         "m_Celeb_TV",
         "1.2e-07",
         null,
         "True"
        ],
        [
         "m_Celeb_Outdoor",
         "1.2e-07",
         null,
         "True"
        ],
        [
         "m_Celeb_Display",
         "4e-07",
         null,
         "True"
        ],
        [
         "comp_Lor_Tot",
         "-2e-08",
         null,
         "True"
        ],
        [
         "comp_no7_Tot",
         "-2e-08",
         null,
         "True"
        ]
       ],
       "shape": {
        "columns": 3,
        "rows": 35
       }
      },
      "text/html": [
       "<div>\n",
       "<style scoped>\n",
       "    .dataframe tbody tr th:only-of-type {\n",
       "        vertical-align: middle;\n",
       "    }\n",
       "\n",
       "    .dataframe tbody tr th {\n",
       "        vertical-align: top;\n",
       "    }\n",
       "\n",
       "    .dataframe thead th {\n",
       "        text-align: right;\n",
       "    }\n",
       "</style>\n",
       "<table border=\"1\" class=\"dataframe\">\n",
       "  <thead>\n",
       "    <tr style=\"text-align: right;\">\n",
       "      <th></th>\n",
       "      <th>Beta_Log</th>\n",
       "      <th>Carryover</th>\n",
       "      <th>Log</th>\n",
       "    </tr>\n",
       "    <tr>\n",
       "      <th>Variable</th>\n",
       "      <th></th>\n",
       "      <th></th>\n",
       "      <th></th>\n",
       "    </tr>\n",
       "  </thead>\n",
       "  <tbody>\n",
       "    <tr>\n",
       "      <th>C</th>\n",
       "      <td>1.200000e+01</td>\n",
       "      <td>NaN</td>\n",
       "      <td>True</td>\n",
       "    </tr>\n",
       "    <tr>\n",
       "      <th>D_JAN</th>\n",
       "      <td>-1.500000e-01</td>\n",
       "      <td>NaN</td>\n",
       "      <td>True</td>\n",
       "    </tr>\n",
       "    <tr>\n",
       "      <th>D_FEB</th>\n",
       "      <td>-1.000000e-01</td>\n",
       "      <td>NaN</td>\n",
       "      <td>True</td>\n",
       "    </tr>\n",
       "    <tr>\n",
       "      <th>D_MAR</th>\n",
       "      <td>8.000000e-02</td>\n",
       "      <td>NaN</td>\n",
       "      <td>True</td>\n",
       "    </tr>\n",
       "    <tr>\n",
       "      <th>D_APR</th>\n",
       "      <td>1.000000e-01</td>\n",
       "      <td>NaN</td>\n",
       "      <td>True</td>\n",
       "    </tr>\n",
       "    <tr>\n",
       "      <th>D_MAY</th>\n",
       "      <td>1.000000e-01</td>\n",
       "      <td>NaN</td>\n",
       "      <td>True</td>\n",
       "    </tr>\n",
       "    <tr>\n",
       "      <th>D_SEP</th>\n",
       "      <td>5.000000e-02</td>\n",
       "      <td>NaN</td>\n",
       "      <td>True</td>\n",
       "    </tr>\n",
       "    <tr>\n",
       "      <th>D_OCT</th>\n",
       "      <td>1.000000e-01</td>\n",
       "      <td>NaN</td>\n",
       "      <td>True</td>\n",
       "    </tr>\n",
       "    <tr>\n",
       "      <th>D_NOV</th>\n",
       "      <td>1.500000e-01</td>\n",
       "      <td>NaN</td>\n",
       "      <td>True</td>\n",
       "    </tr>\n",
       "    <tr>\n",
       "      <th>D_DEC</th>\n",
       "      <td>-2.000000e-01</td>\n",
       "      <td>NaN</td>\n",
       "      <td>True</td>\n",
       "    </tr>\n",
       "    <tr>\n",
       "      <th>SCHOOL_EASTER</th>\n",
       "      <td>-5.000000e-02</td>\n",
       "      <td>NaN</td>\n",
       "      <td>True</td>\n",
       "    </tr>\n",
       "    <tr>\n",
       "      <th>SCHOOL_HT_FEB</th>\n",
       "      <td>-5.000000e-02</td>\n",
       "      <td>NaN</td>\n",
       "      <td>True</td>\n",
       "    </tr>\n",
       "    <tr>\n",
       "      <th>SCHOOL_HT_MAY</th>\n",
       "      <td>-5.000000e-02</td>\n",
       "      <td>NaN</td>\n",
       "      <td>True</td>\n",
       "    </tr>\n",
       "    <tr>\n",
       "      <th>SCHOOL_HT_OCT</th>\n",
       "      <td>-5.000000e-02</td>\n",
       "      <td>NaN</td>\n",
       "      <td>True</td>\n",
       "    </tr>\n",
       "    <tr>\n",
       "      <th>PAYDAY_25</th>\n",
       "      <td>8.000000e-02</td>\n",
       "      <td>NaN</td>\n",
       "      <td>True</td>\n",
       "    </tr>\n",
       "    <tr>\n",
       "      <th>BH_NY</th>\n",
       "      <td>-5.000000e-01</td>\n",
       "      <td>NaN</td>\n",
       "      <td>True</td>\n",
       "    </tr>\n",
       "    <tr>\n",
       "      <th>BH_XMAS</th>\n",
       "      <td>-7.000000e-01</td>\n",
       "      <td>NaN</td>\n",
       "      <td>True</td>\n",
       "    </tr>\n",
       "    <tr>\n",
       "      <th>DAY_VALENTINE</th>\n",
       "      <td>2.500000e-01</td>\n",
       "      <td>1.000000e+00</td>\n",
       "      <td>True</td>\n",
       "    </tr>\n",
       "    <tr>\n",
       "      <th>WW_NAT_DLTA_MAXTEMP</th>\n",
       "      <td>1.000000e-02</td>\n",
       "      <td>NaN</td>\n",
       "      <td>True</td>\n",
       "    </tr>\n",
       "    <tr>\n",
       "      <th>WW_NAT_DLTA_RAIN</th>\n",
       "      <td>-2.000000e-02</td>\n",
       "      <td>NaN</td>\n",
       "      <td>True</td>\n",
       "    </tr>\n",
       "    <tr>\n",
       "      <th>WW_NAT_DLTA_SUN</th>\n",
       "      <td>1.000000e-02</td>\n",
       "      <td>NaN</td>\n",
       "      <td>True</td>\n",
       "    </tr>\n",
       "    <tr>\n",
       "      <th>RSI_NFOOD_VOL_SA</th>\n",
       "      <td>1.000000e+00</td>\n",
       "      <td>NaN</td>\n",
       "      <td>True</td>\n",
       "    </tr>\n",
       "    <tr>\n",
       "      <th>Dist_XF</th>\n",
       "      <td>9.000000e-01</td>\n",
       "      <td>NaN</td>\n",
       "      <td>True</td>\n",
       "    </tr>\n",
       "    <tr>\n",
       "      <th>Price_SE_XF</th>\n",
       "      <td>-1.800000e+00</td>\n",
       "      <td>NaN</td>\n",
       "      <td>True</td>\n",
       "    </tr>\n",
       "    <tr>\n",
       "      <th>Prom_TFT</th>\n",
       "      <td>1.500000e-01</td>\n",
       "      <td>NaN</td>\n",
       "      <td>True</td>\n",
       "    </tr>\n",
       "    <tr>\n",
       "      <th>POS_FSDU</th>\n",
       "      <td>1.000000e-01</td>\n",
       "      <td>NaN</td>\n",
       "      <td>True</td>\n",
       "    </tr>\n",
       "    <tr>\n",
       "      <th>m_Wow_TV</th>\n",
       "      <td>1.200000e-07</td>\n",
       "      <td>NaN</td>\n",
       "      <td>True</td>\n",
       "    </tr>\n",
       "    <tr>\n",
       "      <th>m_Wow_Press</th>\n",
       "      <td>2.000000e-07</td>\n",
       "      <td>NaN</td>\n",
       "      <td>True</td>\n",
       "    </tr>\n",
       "    <tr>\n",
       "      <th>m_Wow_Radio</th>\n",
       "      <td>5.000000e-07</td>\n",
       "      <td>NaN</td>\n",
       "      <td>True</td>\n",
       "    </tr>\n",
       "    <tr>\n",
       "      <th>m_Amaze_Tot</th>\n",
       "      <td>9.000000e-08</td>\n",
       "      <td>9.000000e-08</td>\n",
       "      <td>True</td>\n",
       "    </tr>\n",
       "    <tr>\n",
       "      <th>m_Celeb_TV</th>\n",
       "      <td>1.200000e-07</td>\n",
       "      <td>NaN</td>\n",
       "      <td>True</td>\n",
       "    </tr>\n",
       "    <tr>\n",
       "      <th>m_Celeb_Outdoor</th>\n",
       "      <td>1.200000e-07</td>\n",
       "      <td>NaN</td>\n",
       "      <td>True</td>\n",
       "    </tr>\n",
       "    <tr>\n",
       "      <th>m_Celeb_Display</th>\n",
       "      <td>4.000000e-07</td>\n",
       "      <td>NaN</td>\n",
       "      <td>True</td>\n",
       "    </tr>\n",
       "    <tr>\n",
       "      <th>comp_Lor_Tot</th>\n",
       "      <td>-2.000000e-08</td>\n",
       "      <td>NaN</td>\n",
       "      <td>True</td>\n",
       "    </tr>\n",
       "    <tr>\n",
       "      <th>comp_no7_Tot</th>\n",
       "      <td>-2.000000e-08</td>\n",
       "      <td>NaN</td>\n",
       "      <td>True</td>\n",
       "    </tr>\n",
       "  </tbody>\n",
       "</table>\n",
       "</div>"
      ],
      "text/plain": [
       "                         Beta_Log     Carryover   Log\n",
       "Variable                                             \n",
       "C                    1.200000e+01           NaN  True\n",
       "D_JAN               -1.500000e-01           NaN  True\n",
       "D_FEB               -1.000000e-01           NaN  True\n",
       "D_MAR                8.000000e-02           NaN  True\n",
       "D_APR                1.000000e-01           NaN  True\n",
       "D_MAY                1.000000e-01           NaN  True\n",
       "D_SEP                5.000000e-02           NaN  True\n",
       "D_OCT                1.000000e-01           NaN  True\n",
       "D_NOV                1.500000e-01           NaN  True\n",
       "D_DEC               -2.000000e-01           NaN  True\n",
       "SCHOOL_EASTER       -5.000000e-02           NaN  True\n",
       "SCHOOL_HT_FEB       -5.000000e-02           NaN  True\n",
       "SCHOOL_HT_MAY       -5.000000e-02           NaN  True\n",
       "SCHOOL_HT_OCT       -5.000000e-02           NaN  True\n",
       "PAYDAY_25            8.000000e-02           NaN  True\n",
       "BH_NY               -5.000000e-01           NaN  True\n",
       "BH_XMAS             -7.000000e-01           NaN  True\n",
       "DAY_VALENTINE        2.500000e-01  1.000000e+00  True\n",
       "WW_NAT_DLTA_MAXTEMP  1.000000e-02           NaN  True\n",
       "WW_NAT_DLTA_RAIN    -2.000000e-02           NaN  True\n",
       "WW_NAT_DLTA_SUN      1.000000e-02           NaN  True\n",
       "RSI_NFOOD_VOL_SA     1.000000e+00           NaN  True\n",
       "Dist_XF              9.000000e-01           NaN  True\n",
       "Price_SE_XF         -1.800000e+00           NaN  True\n",
       "Prom_TFT             1.500000e-01           NaN  True\n",
       "POS_FSDU             1.000000e-01           NaN  True\n",
       "m_Wow_TV             1.200000e-07           NaN  True\n",
       "m_Wow_Press          2.000000e-07           NaN  True\n",
       "m_Wow_Radio          5.000000e-07           NaN  True\n",
       "m_Amaze_Tot          9.000000e-08  9.000000e-08  True\n",
       "m_Celeb_TV           1.200000e-07           NaN  True\n",
       "m_Celeb_Outdoor      1.200000e-07           NaN  True\n",
       "m_Celeb_Display      4.000000e-07           NaN  True\n",
       "comp_Lor_Tot        -2.000000e-08           NaN  True\n",
       "comp_no7_Tot        -2.000000e-08           NaN  True"
      ]
     },
     "execution_count": 15,
     "metadata": {},
     "output_type": "execute_result"
    }
   ],
   "source": [
    "df_eqn_all = pd.read_excel(\n",
    "    'data/mock model.xlsx',\n",
    "    sheet_name='EqnSpec',\n",
    "    usecols='A:D',\n",
    ").set_index('Variable')\n",
    "\n",
    "# Filter and convert 'Log' column: only 1 is True, anything else is False\n",
    "df_eqn = df_eqn_all[df_eqn_all['Beta_Log'].notnull()].copy()\n",
    "df_eqn['Log'] = df_eqn['Log'] == 1\n",
    "df_eqn\n"
   ]
  },
  {
   "cell_type": "code",
   "execution_count": 14,
   "id": "94f41576",
   "metadata": {},
   "outputs": [
    {
     "data": {
      "application/vnd.microsoft.datawrangler.viewer.v0+json": {
       "columns": [
        {
         "name": "index",
         "rawType": "object",
         "type": "string"
        },
        {
         "name": "0",
         "rawType": "object",
         "type": "unknown"
        }
       ],
       "ref": "151b428c-a2d3-44cb-a978-0a659a81a2ad",
       "rows": [
        [
         "Beta_Log",
         "float64"
        ],
        [
         "Carryover",
         "float64"
        ],
        [
         "Log",
         "bool"
        ]
       ],
       "shape": {
        "columns": 1,
        "rows": 3
       }
      },
      "text/plain": [
       "Beta_Log     float64\n",
       "Carryover    float64\n",
       "Log             bool\n",
       "dtype: object"
      ]
     },
     "execution_count": 14,
     "metadata": {},
     "output_type": "execute_result"
    }
   ],
   "source": [
    "# Show column types for df_eqn\n",
    "df_eqn.dtypes"
   ]
  }
 ],
 "metadata": {
  "kernelspec": {
   "display_name": ".venv",
   "language": "python",
   "name": "python3"
  },
  "language_info": {
   "codemirror_mode": {
    "name": "ipython",
    "version": 3
   },
   "file_extension": ".py",
   "mimetype": "text/x-python",
   "name": "python",
   "nbconvert_exporter": "python",
   "pygments_lexer": "ipython3",
   "version": "3.13.4"
  }
 },
 "nbformat": 4,
 "nbformat_minor": 5
}
