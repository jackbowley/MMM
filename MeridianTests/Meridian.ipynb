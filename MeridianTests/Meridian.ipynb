{
  "cells": [
    {
      "cell_type": "markdown",
      "metadata": {
        "id": "view-in-github",
        "colab_type": "text"
      },
      "source": [
        "<a href=\"https://colab.research.google.com/github/jackbowley/MMM/blob/main/MeridianTests/Meridian.ipynb\" target=\"_parent\"><img src=\"https://colab.research.google.com/assets/colab-badge.svg\" alt=\"Open In Colab\"/></a>"
      ]
    },
    {
      "cell_type": "markdown",
      "metadata": {
        "id": "yuQtvbG_vILv"
      },
      "source": [
        "<table class=\"tfo-notebook-buttons\" align=\"left\">\n",
        "  <td>\n",
        "    <a target=\"_blank\" href=\"https://colab.research.google.com/github/google/meridian/blob/main/demo/Meridian_Getting_Started.ipynb\"><img src=\"https://www.tensorflow.org/images/colab_logo_32px.png\" />Run in Google Colab</a>\n",
        "  </td>\n",
        "  <td>\n",
        "    <a target=\"_blank\" href=\"https://github.com/google/meridian/blob/main/demo/Meridian_Getting_Started.ipynb\"><img src=\"https://www.tensorflow.org/images/GitHub-Mark-32px.png\" />View source on GitHub</a>\n",
        "  </td>\n",
        "</table>\n"
      ]
    },
    {
      "cell_type": "markdown",
      "metadata": {
        "id": "KqSiFABximWU"
      },
      "source": [
        "# **Running test log-linear national models through meridian**\n"
      ]
    },
    {
      "cell_type": "markdown",
      "metadata": {
        "id": "GicRPam0mUhF"
      },
      "source": [
        "<a name=\"install\"></a>\n",
        "\n",
        "## Step 0: Install\n"
      ]
    },
    {
      "cell_type": "markdown",
      "metadata": {
        "id": "pDdX9WofM2fx"
      },
      "source": [
        "1\\. Make sure you are using one of the available GPU Colab runtimes which is **required** to run Meridian. You can change your notebook's runtime in `Runtime > Change runtime type` in the menu. All users can use the T4 GPU runtime which is sufficient to run the demo colab, free of charge. Users who have purchased one of Colab's paid plans have access to premium GPUs (such as V100, A100 or L4 Nvidia GPU).\n"
      ]
    },
    {
      "cell_type": "markdown",
      "metadata": {
        "id": "nFYRTDuesa1P"
      },
      "source": [
        "2\\. Install the latest version of Meridian, and verify that GPU is available.\n"
      ]
    },
    {
      "cell_type": "code",
      "execution_count": null,
      "metadata": {
        "id": "h1jAk386jF3k",
        "collapsed": true
      },
      "outputs": [],
      "source": [
        "# Install meridian: from PyPI @ latest release\n",
        "!pip install --upgrade google-meridian[colab,and-cuda]\n",
        "\n",
        "# Install meridian: from PyPI @ specific version\n",
        "# !pip install google-meridian[colab,and-cuda]==1.1.1\n",
        "\n",
        "# Install meridian: from GitHub @HEAD\n",
        "# !pip install --upgrade \"google-meridian[colab,and-cuda] @ git+https://github.com/google/meridian.git@main\""
      ]
    },
    {
      "cell_type": "code",
      "execution_count": null,
      "metadata": {
        "id": "Fhwt1wzgLwpZ"
      },
      "outputs": [],
      "source": [
        "import arviz as az\n",
        "import IPython\n",
        "from meridian import constants\n",
        "from meridian.analysis import analyzer\n",
        "from meridian.analysis import formatter\n",
        "from meridian.analysis import optimizer\n",
        "from meridian.analysis import summarizer\n",
        "from meridian.analysis import visualizer\n",
        "from meridian.data import data_frame_input_data_builder as data_builder\n",
        "from meridian.data import test_utils\n",
        "from meridian.model import model\n",
        "from meridian.model import prior_distribution\n",
        "from meridian.model import spec\n",
        "import numpy as np\n",
        "import pandas as pd\n",
        "# check if GPU is available\n",
        "from psutil import virtual_memory\n",
        "import tensorflow as tf\n",
        "import tensorflow_probability as tfp\n",
        "\n",
        "ram_gb = virtual_memory().total / 1e9\n",
        "print('Your runtime has {:.1f} gigabytes of available RAM\\n'.format(ram_gb))\n",
        "print(\n",
        "    'Num GPUs Available: ',\n",
        "    len(tf.config.experimental.list_physical_devices('GPU')),\n",
        ")\n",
        "print(\n",
        "    'Num CPUs Available: ',\n",
        "    len(tf.config.experimental.list_physical_devices('CPU')),\n",
        ")\n",
        "\n",
        "from google.colab import drive\n",
        "import pandas as pd\n"
      ]
    },
    {
      "cell_type": "markdown",
      "metadata": {
        "id": "0qCbVoKMIhEC"
      },
      "source": [
        "### Functions etc.\n"
      ]
    },
    {
      "cell_type": "code",
      "execution_count": null,
      "metadata": {
        "id": "EBxXU_sQM6Ml"
      },
      "outputs": [],
      "source": [
        "\n",
        "def import_df_from_drive(filepath):\n",
        "  \"\"\"Imports a CSV file from Google Drive into a pandas DataFrame.\n",
        "\n",
        "  Args:\n",
        "    filepath: The full path to the CSV file in Google Drive.\n",
        "\n",
        "  Returns:\n",
        "    A pandas DataFrame containing the data from the CSV file, or None if an error\n",
        "    occurs.\n",
        "  \"\"\"\n",
        "  try:\n",
        "    drive.mount('/content/drive', force_remount=False) # Force remount in case it's already mounted\n",
        "    df = pd.read_csv(filepath)\n",
        "    print(f\"DataFrame loaded successfully from {filepath}\")\n",
        "    return df\n",
        "  except FileNotFoundError:\n",
        "    print(f\"Error: The file was not found at {filepath}\")\n",
        "    return None\n",
        "  except Exception as e:\n",
        "    print(f\"An error occurred while reading the CSV file: {e}\")\n",
        "    return None"
      ]
    },
    {
      "cell_type": "markdown",
      "metadata": {
        "id": "kiM0UrN6qbIP"
      },
      "source": [
        "<a name=\"load-data\"></a>\n",
        "\n",
        "## Step 1: Load the data\n"
      ]
    },
    {
      "cell_type": "markdown",
      "metadata": {
        "id": "o8IUP4VCLuf3"
      },
      "source": [
        "# 1\\.1 Load Data from google drive.\n"
      ]
    },
    {
      "cell_type": "code",
      "execution_count": null,
      "metadata": {
        "id": "03399c0e"
      },
      "outputs": [],
      "source": [
        "\n",
        "# Mount Google Drive\n",
        "drive.mount('/content/drive')\n",
        "\n",
        "# Define the file path to your CSV file in Google Drive.\n",
        "filepath = '/content/drive/MyDrive/work/MMM/data.csv'\n",
        "dir = '/content/drive/MyDrive/work/MMM/'\n",
        "filename= 'data.csv'\n",
        "df_data = import_df_from_drive(dir+filename)\n",
        "# df_data.head()\n"
      ]
    },
    {
      "cell_type": "code",
      "source": [
        "df1 = df_data.copy()\n",
        "df1 = df1.dropna(subset=['svol_XF'])\n",
        "df1 = df1.rename(columns={'Date': 'time'})\n",
        "\n",
        "display(df1['time'].dtype)\n"
      ],
      "metadata": {
        "id": "Dxl0HWZnsxuo"
      },
      "execution_count": null,
      "outputs": []
    },
    {
      "cell_type": "code",
      "source": [
        "df = pd.read_excel(\n",
        "    'https://github.com/google/meridian/raw/main/meridian/data/simulated_data/xlsx/national_media.xlsx',\n",
        "    engine='openpyxl',\n",
        ")\n",
        "display(df['time'].dtype)\n",
        "\n",
        "df = df.rename(columns={'conversions': 'svol_XF'})\n",
        "df = df.rename(columns={'revenue_per_conversion': 'Price_SE_XF'})"
      ],
      "metadata": {
        "id": "u-hfHBFNCbcL"
      },
      "execution_count": null,
      "outputs": []
    },
    {
      "cell_type": "code",
      "source": [
        "df.head()"
      ],
      "metadata": {
        "id": "zxC9BLfHIqQc"
      },
      "execution_count": null,
      "outputs": []
    },
    {
      "cell_type": "code",
      "source": [],
      "metadata": {
        "id": "Fs4MaGtqIvi-"
      },
      "execution_count": null,
      "outputs": []
    },
    {
      "cell_type": "code",
      "source": [
        "\n",
        "builder = data_builder.DataFrameInputDataBuilder(\n",
        "    kpi_type='non_revenue',\n",
        "    default_kpi_column=\"svol_XF\",\n",
        "    default_revenue_per_kpi_column=\"Price_SE_XF\",\n",
        ")\n",
        "builder = (\n",
        "    builder\n",
        "        .with_kpi(df)\n",
        "        .with_revenue_per_kpi(df)\n",
        "        .with_controls(df, control_cols=[\"GQV\", \"Discount\", \"Competitor_Sales\"])\n",
        ")\n",
        "channels = [\"Channel0\", \"Channel1\", \"Channel2\", \"Channel3\", \"Channel4\", \"Channel5\"]\n",
        "builder = builder.with_media(\n",
        "    df,\n",
        "    # media_cols=channels,\n",
        "    # media_spend_cols=channels,\n",
        "    # media_cols=[f\"{channel}_impression\" for channel in channels],\n",
        "    media_cols=[f\"{channel}_spend\" for channel in channels],\n",
        "    media_spend_cols=[f\"{channel}_spend\" for channel in channels],\n",
        "    media_channels=channels,\n",
        ")\n",
        "\n",
        "data = builder.build()"
      ],
      "metadata": {
        "collapsed": true,
        "id": "qFHw3ZKa2nJC"
      },
      "execution_count": null,
      "outputs": []
    },
    {
      "cell_type": "code",
      "execution_count": null,
      "metadata": {
        "id": "PjK2KELQN9C7"
      },
      "outputs": [],
      "source": [
        "filename= 'var_spec.csv'\n",
        "df_var_spec = import_df_from_drive(dir+filename)\n",
        "df_var_spec.head()"
      ]
    },
    {
      "cell_type": "markdown",
      "metadata": {
        "id": "8JBDZzl80BrY"
      },
      "source": [
        "2\\. Load Data using DataFrameInputDataBuilder\n"
      ]
    },
    {
      "cell_type": "code",
      "execution_count": null,
      "metadata": {
        "id": "4qdTSk4a0znn"
      },
      "outputs": [],
      "source": [
        "builder = data_builder.DataFrameInputDataBuilder(\n",
        "    kpi_type='non_revenue',\n",
        "    default_kpi_column='svol_XF',\n",
        "    default_revenue_per_kpi_column='Price_SE_XF',\n",
        ")\n",
        "\n",
        "controls = [\"D_JAN\",\"D_FEB\",\"D_MAR\",\"D_APR\",\"D_MAY\",\"D_SEP\",\"D_OCT\",\"D_NOV\",\"D_DEC\",\n",
        "            \"SCHOOL_EASTER\",\"SCHOOL_HT_FEB\",\"SCHOOL_HT_MAY\",\"SCHOOL_HT_OCT\",\"PAYDAY_25\",\n",
        "            \"BH_NY\",\"BH_XMAS\",\"DAY_VALENTINE\",\"WW_NAT_DLTA_MAXTEMP\",\"WW_NAT_DLTA_RAIN\",\"WW_NAT_DLTA_SUN\",\"RSI_NFOOD_VOL_SA\",\"Dist_XF\",\n",
        "            \"Price_SE_XF\",\"Prom_TFT\",\"POS_FSDU\",\"comp_Lor_Tot\",\"comp_no7_Tot\"]\n",
        "\n",
        "channels = [\"m_Wow_TV\",\"m_Wow_OLV\",\"m_Wow_Social\",\"m_Amaze_Tot\",\"m_Celeb_TV\",\"m_Celeb_Outdoor\",\"m_Celeb_Display\"]\n",
        "\n",
        "builder = (\n",
        "    builder\n",
        "        .with_kpi(df1)\n",
        "        .with_revenue_per_kpi(df1)\n",
        "        .with_controls(df1, control_cols=controls)\n",
        ")\n",
        "\n",
        "builder = builder.with_media(\n",
        "    df1,\n",
        "    media_cols=channels,\n",
        "    media_spend_cols=channels,\n",
        "    media_channels=channels,\n",
        ")\n",
        "\n",
        "data = builder.build()\n"
      ]
    },
    {
      "cell_type": "markdown",
      "metadata": {
        "id": "FO6pDd6f2V1L"
      },
      "source": [
        "<a name=\"configure-model\"></a>\n",
        "\n",
        "## Step 2: Configure the model\n"
      ]
    },
    {
      "cell_type": "markdown",
      "metadata": {
        "id": "a_mQI7HzxxK4"
      },
      "source": []
    },
    {
      "cell_type": "code",
      "execution_count": null,
      "metadata": {
        "id": "8XNDd7HX1qTn"
      },
      "outputs": [],
      "source": [
        "roi_mu = 0.2  # Mu for ROI prior for each media channel.\n",
        "roi_sigma = 0.9  # Sigma for ROI prior for each media channel.\n",
        "prior = prior_distribution.PriorDistribution(\n",
        "    roi_m=tfp.distributions.LogNormal(roi_mu, roi_sigma, name=constants.ROI_M)\n",
        ")\n",
        "model_spec = spec.ModelSpec(prior=prior)\n",
        "\n",
        "mmm = model.Meridian(input_data=data, model_spec=model_spec)"
      ]
    },
    {
      "cell_type": "markdown",
      "metadata": {
        "id": "kPQBPlX8cmEv"
      },
      "source": [
        "2\\. Use the `sample_prior()` and `sample_posterior()` methods to obtain samples from the prior and posterior distributions of model parameters. If you are using the T4 GPU runtime this step may take about 10 minutes for the provided data set.\n"
      ]
    },
    {
      "cell_type": "code",
      "execution_count": null,
      "metadata": {
        "id": "KVB3avRdcRNz"
      },
      "outputs": [],
      "source": [
        "%%time\n",
        "mmm.sample_prior(500)\n",
        "mmm.sample_posterior(\n",
        "    n_chains=10, n_adapt=2000, n_burnin=500, n_keep=1000, seed=0\n",
        ")"
      ]
    },
    {
      "cell_type": "markdown",
      "metadata": {
        "id": "5WUM2V26cspo"
      },
      "source": [
        "For more information about configuring the parameters and using a customized model specification, such as setting different ROI priors for each media channel, see [Configure the model](https://developers.google.com/meridian/docs/user-guide/configure-model).\n"
      ]
    },
    {
      "cell_type": "markdown",
      "metadata": {
        "id": "t9oECJwUdJTm"
      },
      "source": [
        "<a name=\"model-diagnostics\"></a>\n",
        "\n",
        "## Step 3: Run model diagnostics\n"
      ]
    },
    {
      "cell_type": "markdown",
      "metadata": {
        "id": "kSzK6JeMxrV6"
      },
      "source": [
        "After the model is built, you must assess convergence, debug the model if needed, and then assess the model fit.\n",
        "\n",
        "1\\. Assess convergence. Run the following code to generate r-hat statistics. R-hat close to 1.0 indicate convergence. R-hat < 1.2 indicates approximate convergence and is a reasonable threshold for many problems.\n"
      ]
    },
    {
      "cell_type": "code",
      "execution_count": null,
      "metadata": {
        "id": "rFuc7B86yLvM"
      },
      "outputs": [],
      "source": [
        "model_diagnostics = visualizer.ModelDiagnostics(mmm)\n",
        "model_diagnostics.plot_rhat_boxplot()"
      ]
    },
    {
      "cell_type": "markdown",
      "metadata": {
        "id": "nCwt5SGYxlaE"
      },
      "source": [
        "2\\. Assess the model's fit by comparing the expected sales against the actual sales.\n"
      ]
    },
    {
      "cell_type": "code",
      "execution_count": null,
      "metadata": {
        "id": "7Z4zJtHyyhif"
      },
      "outputs": [],
      "source": [
        "model_fit = visualizer.ModelFit(mmm)\n",
        "model_fit.plot_model_fit()"
      ]
    },
    {
      "cell_type": "markdown",
      "metadata": {
        "id": "76IBQcWLu980"
      },
      "source": [
        "For more information and additional model diagnostics checks, see [Modeling diagnostics](https://developers.google.com/meridian/docs/user-guide/model-diagnostics).\n"
      ]
    },
    {
      "cell_type": "markdown",
      "metadata": {
        "id": "zGUOFFbCdOtl"
      },
      "source": [
        "<a name=\"generate-summary\"></a>\n",
        "\n",
        "## Step 4: Generate model results & two-page output\n"
      ]
    },
    {
      "cell_type": "markdown",
      "metadata": {
        "id": "puHjkyvZEOEg"
      },
      "source": [
        "To export the two-page HTML summary output, initialize the `Summarizer` class with the model object. Then pass in the filename, filepath, start date, and end date to `output_model_results_summary` to run the summary for that time duration and save it to the specified file.\n"
      ]
    },
    {
      "cell_type": "code",
      "execution_count": null,
      "metadata": {
        "id": "keOpq1qKNbq0"
      },
      "outputs": [],
      "source": [
        "mmm_summarizer = summarizer.Summarizer(mmm)"
      ]
    },
    {
      "cell_type": "code",
      "execution_count": null,
      "metadata": {
        "id": "Ltr4uP80YQe7"
      },
      "outputs": [],
      "source": [
        "from google.colab import drive\n",
        "\n",
        "drive.mount('/content/drive')"
      ]
    },
    {
      "cell_type": "code",
      "execution_count": null,
      "metadata": {
        "id": "qbgNaDYpIfQl"
      },
      "outputs": [],
      "source": [
        "filepath = '/content/drive/MyDrive'\n",
        "start_date = '2021-01-25'\n",
        "end_date = '2024-01-15'\n",
        "mmm_summarizer.output_model_results_summary(\n",
        "    'summary_output.html', filepath, start_date, end_date\n",
        ")"
      ]
    },
    {
      "cell_type": "markdown",
      "metadata": {
        "id": "j9sBxuvidmr8"
      },
      "source": [
        "Here is a preview of the two-page output based on the simulated data:\n"
      ]
    },
    {
      "cell_type": "code",
      "execution_count": null,
      "metadata": {
        "id": "vaUe7uZRfJPm"
      },
      "outputs": [],
      "source": [
        "IPython.display.HTML(filename='/content/drive/MyDrive/summary_output.html')"
      ]
    },
    {
      "cell_type": "markdown",
      "metadata": {
        "id": "PphWMfKdwPIw"
      },
      "source": [
        "For a customized two-page report, model results summary table, and individual visualizations, see [Model results report](https://developers.google.com/meridian/docs/user-guide/generate-model-results-report) and [plot media visualizations](https://developers.google.com/meridian/docs/user-guide/plot-media-visualizations).\n"
      ]
    },
    {
      "cell_type": "markdown",
      "metadata": {
        "id": "msqwz2MN5mTq"
      },
      "source": [
        "<a name=\"generate-optimize\"></a>\n",
        "\n",
        "## Step 5: Run budget optimization & generate an optimization report\n"
      ]
    },
    {
      "cell_type": "markdown",
      "metadata": {
        "id": "khCL6Q2sS-iy"
      },
      "source": [
        "You can choose what scenario to run for the budget allocation. In default scenario, you find the optimal allocation across channels for a given budget to maximize the return on investment (ROI).\n",
        "\n",
        "1\\. Instantiate the `BudgetOptimizer` class and run the `optimize()` method without any customization, to run the default library's Fixed Budget Scenario to maximize ROI.\n"
      ]
    },
    {
      "cell_type": "code",
      "execution_count": null,
      "metadata": {
        "id": "38lhqyLvHf51"
      },
      "outputs": [],
      "source": [
        "%%time\n",
        "budget_optimizer = optimizer.BudgetOptimizer(mmm)\n",
        "optimization_results = budget_optimizer.optimize()"
      ]
    },
    {
      "cell_type": "markdown",
      "metadata": {
        "id": "fLOMqDmCRKRO"
      },
      "source": [
        "2\\. Export the 2-page HTML optimization report, which contains optimized spend allocations and ROI.\n"
      ]
    },
    {
      "cell_type": "code",
      "execution_count": null,
      "metadata": {
        "id": "at7V7YEh_zwZ"
      },
      "outputs": [],
      "source": [
        "filepath = '/content/drive/MyDrive'\n",
        "optimization_results.output_optimization_summary(\n",
        "    'optimization_output.html', filepath\n",
        ")"
      ]
    },
    {
      "cell_type": "code",
      "execution_count": null,
      "metadata": {
        "id": "jq_mcrj1STDU"
      },
      "outputs": [],
      "source": [
        "IPython.display.HTML(filename='/content/drive/MyDrive/optimization_output.html')"
      ]
    },
    {
      "cell_type": "markdown",
      "metadata": {
        "id": "kIWTubaN0RKC"
      },
      "source": [
        "For information about customized optimization scenarios, such as flexible budget scenarios, see [Budget optimization scenarios](https://developers.google.com/meridian/docs/user-guide/budget-optimization-scenarios). For more information about optimization results summary and individual visualizations, see [optimization results output](https://developers.google.com/meridian/docs/user-guide/generate-optimization-results-output) and [optimization visualizations](https://developers.google.com/meridian/docs/user-guide/plot-optimization-visualizations).\n"
      ]
    },
    {
      "cell_type": "markdown",
      "metadata": {
        "id": "3m98O3a_TrVg"
      },
      "source": [
        "<a name=\"save-model\"></a>\n",
        "\n",
        "## Step 6: Save the model object\n"
      ]
    },
    {
      "cell_type": "markdown",
      "metadata": {
        "id": "2Zjh64YG8Dti"
      },
      "source": [
        "We recommend that you save the model object for future use. This helps you to avoid repetitive model runs and saves time and computational resources. After the model object is saved, you can load it at a later stage to continue the analysis or visualizations without having to re-run the model.\n"
      ]
    },
    {
      "cell_type": "markdown",
      "metadata": {
        "id": "1kamZpyv8KMh"
      },
      "source": [
        "Run the following codes to save the model object:\n"
      ]
    },
    {
      "cell_type": "code",
      "execution_count": null,
      "metadata": {
        "id": "FfaQQ8-fTw0K"
      },
      "outputs": [],
      "source": [
        "file_path = '/content/drive/MyDrive/saved_mmm.pkl'\n",
        "model.save_mmm(mmm, file_path)"
      ]
    },
    {
      "cell_type": "markdown",
      "metadata": {
        "id": "k2v_s2uS8PgA"
      },
      "source": [
        "Run the following codes to load the saved model:\n"
      ]
    },
    {
      "cell_type": "code",
      "execution_count": null,
      "metadata": {
        "id": "ZGUmiYI48epA"
      },
      "outputs": [],
      "source": [
        "mmm = model.load_mmm(file_path)"
      ]
    }
  ],
  "metadata": {
    "accelerator": "GPU",
    "colab": {
      "gpuType": "T4",
      "private_outputs": true,
      "provenance": [],
      "toc_visible": true,
      "include_colab_link": true
    },
    "kernelspec": {
      "display_name": ".venv",
      "language": "python",
      "name": "python3"
    },
    "language_info": {
      "codemirror_mode": {
        "name": "ipython",
        "version": 3
      },
      "file_extension": ".py",
      "mimetype": "text/x-python",
      "name": "python",
      "nbconvert_exporter": "python",
      "pygments_lexer": "ipython3",
      "version": "3.13.4"
    }
  },
  "nbformat": 4,
  "nbformat_minor": 0
}