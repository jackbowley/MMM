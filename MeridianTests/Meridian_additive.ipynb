{
  "cells": [
    {
      "cell_type": "markdown",
      "metadata": {
        "colab_type": "text",
        "id": "view-in-github"
      },
      "source": [
        "<a href=\"https://colab.research.google.com/github/jackbowley/MMM/blob/main/MeridianTests/Meridian.ipynb\" target=\"_parent\"><img src=\"https://colab.research.google.com/assets/colab-badge.svg\" alt=\"Open In Colab\"/></a>\n"
      ]
    },
    {
      "cell_type": "markdown",
      "metadata": {
        "id": "yuQtvbG_vILv"
      },
      "source": [
        "<table class=\"tfo-notebook-buttons\" align=\"left\">\n",
        "  <td>\n",
        "    <a target=\"_blank\" href=\"https://colab.research.google.com/github/google/meridian/blob/main/demo/Meridian_Getting_Started.ipynb\"><img src=\"https://www.tensorflow.org/images/colab_logo_32px.png\" />Run in Google Colab</a>\n",
        "  </td>\n",
        "  <td>\n",
        "    <a target=\"_blank\" href=\"https://github.com/google/meridian/blob/main/demo/Meridian_Getting_Started.ipynb\"><img src=\"https://www.tensorflow.org/images/GitHub-Mark-32px.png\" />View source on GitHub</a>\n",
        "  </td>\n",
        "</table>\n"
      ]
    },
    {
      "cell_type": "markdown",
      "metadata": {
        "id": "KqSiFABximWU"
      },
      "source": [
        "# **Running test linear national models through meridian**\n"
      ]
    },
    {
      "cell_type": "markdown",
      "metadata": {
        "id": "GicRPam0mUhF"
      },
      "source": [
        "<a name=\"install\"></a>\n",
        "\n",
        "## Step 0: Install\n"
      ]
    },
    {
      "cell_type": "markdown",
      "metadata": {
        "id": "pDdX9WofM2fx"
      },
      "source": [
        "1\\. Make sure you are using one of the available GPU Colab runtimes which is **required** to run Meridian. You can change your notebook's runtime in `Runtime > Change runtime type` in the menu. All users can use the T4 GPU runtime which is sufficient to run the demo colab, free of charge. Users who have purchased one of Colab's paid plans have access to premium GPUs (such as V100, A100 or L4 Nvidia GPU).\n"
      ]
    },
    {
      "cell_type": "markdown",
      "metadata": {
        "id": "nFYRTDuesa1P"
      },
      "source": [
        "2\\. Install the latest version of Meridian, and verify that GPU is available.\n"
      ]
    },
    {
      "cell_type": "code",
      "execution_count": 17,
      "metadata": {},
      "outputs": [],
      "source": [
        "import sys, os\n",
        "IN_COLAB = ('google.colab' in sys.modules) or ('COLAB_RELEASE_TAG' in os.environ)"
      ]
    },
    {
      "cell_type": "code",
      "execution_count": 18,
      "metadata": {
        "collapsed": true,
        "id": "h1jAk386jF3k"
      },
      "outputs": [
        {
          "name": "stdout",
          "output_type": "stream",
          "text": [
            "Installing: google-meridian\n"
          ]
        }
      ],
      "source": [
        "# Install meridian: from PyPI @ latest release (robust in Colab and local Jupyter)\n",
        "import sys, subprocess\n",
        "pkg = \"google-meridian[colab,and-cuda]\" if IN_COLAB else \"google-meridian\"\n",
        "print(f\"Installing: {pkg}\")\n",
        "try:\n",
        "    subprocess.check_call([sys.executable, \"-m\", \"pip\", \"install\", \"--upgrade\", pkg])\n",
        "except Exception as e:\n",
        "    print(f\"pip install failed for {pkg}: {e}\")"
      ]
    },
    {
      "cell_type": "code",
      "execution_count": 39,
      "metadata": {
        "id": "Fhwt1wzgLwpZ"
      },
      "outputs": [
        {
          "name": "stdout",
          "output_type": "stream",
          "text": [
            "Your runtime has 16.9 gigabytes of available RAM\n",
            "\n",
            "Num GPUs Available:  0\n",
            "Num CPUs Available:  1\n"
          ]
        }
      ],
      "source": [
        "import arviz as az\n",
        "import IPython\n",
        "from meridian import constants\n",
        "from meridian.analysis import analyzer\n",
        "from meridian.analysis import formatter\n",
        "from meridian.analysis import optimizer\n",
        "from meridian.analysis import summarizer\n",
        "from meridian.analysis import visualizer\n",
        "from meridian.data import data_frame_input_data_builder as data_builder\n",
        "from meridian.data import test_utils\n",
        "from meridian.model import model\n",
        "from meridian.model import prior_distribution\n",
        "from meridian.model import spec\n",
        "import numpy as np\n",
        "import pandas as pd\n",
        "# check if GPU is available\n",
        "from psutil import virtual_memory\n",
        "import tensorflow as tf\n",
        "import tensorflow_probability as tfp\n",
        "\n",
        "if IN_COLAB:\n",
        "    from google.colab import drive\n",
        "\n",
        "\n",
        "ram_gb = virtual_memory().total / 1e9\n",
        "print('Your runtime has {:.1f} gigabytes of available RAM\\n'.format(ram_gb))\n",
        "print(\n",
        "    'Num GPUs Available: ',\n",
        "    len(tf.config.experimental.list_physical_devices('GPU')),\n",
        ")\n",
        "print(\n",
        "    'Num CPUs Available: ',\n",
        "    len(tf.config.experimental.list_physical_devices('CPU')),\n",
        ")\n"
      ]
    },
    {
      "cell_type": "markdown",
      "metadata": {
        "id": "0qCbVoKMIhEC"
      },
      "source": [
        "### Functions etc.\n"
      ]
    },
    {
      "cell_type": "code",
      "execution_count": 20,
      "metadata": {
        "id": "EBxXU_sQM6Ml"
      },
      "outputs": [],
      "source": [
        "def import_df_from_drive(filepath):\n",
        "  \"\"\"Imports a CSV file from Google Drive into a pandas DataFrame.\n",
        "\n",
        "  Args:\n",
        "    filepath: The full path to the CSV file in Google Drive.\n",
        "\n",
        "  Returns:\n",
        "    A pandas DataFrame containing the data from the CSV file, or None if an error\n",
        "    occurs.\n",
        "  \"\"\"\n",
        "  try:\n",
        "    drive.mount('/content/drive', force_remount=False) # Force remount in case it's already mounted\n",
        "    df = pd.read_csv(filepath)\n",
        "    print(f\"DataFrame loaded successfully from {filepath}\")\n",
        "    return df\n",
        "  except FileNotFoundError:\n",
        "    print(f\"Error: The file was not found at {filepath}\")\n",
        "    return None\n",
        "  except Exception as e:\n",
        "    print(f\"An error occurred while reading the CSV file: {e}\")\n",
        "    return None\n"
      ]
    },
    {
      "cell_type": "code",
      "execution_count": 21,
      "metadata": {},
      "outputs": [],
      "source": [
        "def import_df_from_local(filename, base_dir='results'):\n",
        "    \"\"\"Imports a CSV file from a local 'results' folder into a pandas DataFrame.\n",
        "\n",
        "    Args:\n",
        "      filename: The CSV file name inside the results folder (e.g., 'data.csv').\n",
        "      base_dir: Base directory to look in (defaults to 'results').\n",
        "\n",
        "    Returns:\n",
        "      A pandas DataFrame containing the data from the CSV file, or None if an error occurs.\n",
        "    \"\"\"\n",
        "    try:\n",
        "        if not filename:\n",
        "            raise ValueError(\"filename must be provided, e.g., 'data.csv'\")\n",
        "        local_path = os.path.join(base_dir, filename)\n",
        "        if not os.path.isabs(local_path):\n",
        "            local_path = os.path.abspath(local_path)\n",
        "        df = pd.read_csv(local_path)\n",
        "        print(f\"DataFrame loaded successfully from {local_path}\")\n",
        "        return df\n",
        "    except FileNotFoundError:\n",
        "        print(f\"Error: The file was not found at {local_path}\")\n",
        "        return None\n",
        "    except Exception as e:\n",
        "        print(f\"An error occurred while reading the CSV file: {e}\")\n",
        "        return None\n"
      ]
    },
    {
      "cell_type": "markdown",
      "metadata": {
        "id": "kiM0UrN6qbIP"
      },
      "source": [
        "<a name=\"load-data\"></a>\n",
        "\n",
        "## Step 1: Load the data\n"
      ]
    },
    {
      "cell_type": "markdown",
      "metadata": {
        "id": "o8IUP4VCLuf3"
      },
      "source": [
        "### 1\\.1 Load Data\n"
      ]
    },
    {
      "cell_type": "code",
      "execution_count": 22,
      "metadata": {
        "id": "03399c0e"
      },
      "outputs": [
        {
          "name": "stdout",
          "output_type": "stream",
          "text": [
            "DataFrame loaded successfully from c:\\Users\\User\\repos\\MMM\\MeridianTests\\results\\data_add.csv\n",
            "DataFrame loaded successfully from c:\\Users\\User\\repos\\MMM\\MeridianTests\\results\\var_spec_add.csv\n"
          ]
        }
      ],
      "source": [
        "\n",
        "# Define the file path to your CSV file in Google Drive.\n",
        "if IN_COLAB:\n",
        "    base_dir = '/content/drive/MyDrive/work/MMM'\n",
        "    filename = 'data_add.csv'\n",
        "    df_data = import_df_from_drive(os.path.join(base_dir, filename))\n",
        "    filename= 'var_spec_add.csv'\n",
        "    df_var_spec = import_df_from_drive(os.path.join(base_dir, filename))\n",
        "    df_var_spec.head()\n",
        "else:\n",
        "    base_dir = 'results'\n",
        "    filename = 'data_add.csv'\n",
        "    df_data = import_df_from_local(filename, base_dir=base_dir)\n",
        "    filename = 'var_spec_add.csv'\n",
        "    df_var_spec = import_df_from_local(filename, base_dir=base_dir)"
      ]
    },
    {
      "cell_type": "code",
      "execution_count": 23,
      "metadata": {
        "id": "Dxl0HWZnsxuo"
      },
      "outputs": [],
      "source": [
        "df = df_data.copy()\n",
        "df = df.dropna(subset=['svol_xf'])\n",
        "df = df.rename(columns={'Date': 'time'})\n",
        "start_date = '2020-06-02'\n",
        "end_date = '2024-08-27'\n",
        "df = df[(df['time'] >= start_date) & (df['time'] <= end_date)]"
      ]
    },
    {
      "cell_type": "markdown",
      "metadata": {
        "id": "8JBDZzl80BrY"
      },
      "source": [
        "2\\. Load Data using DataFrameInputDataBuilder\n"
      ]
    },
    {
      "cell_type": "code",
      "execution_count": 24,
      "metadata": {
        "id": "4qdTSk4a0znn"
      },
      "outputs": [],
      "source": [
        "builder = data_builder.DataFrameInputDataBuilder(\n",
        "    kpi_type='non_revenue',\n",
        "    default_kpi_column='svol_xf',\n",
        "    default_revenue_per_kpi_column='price_se_xf',\n",
        ")\n",
        "\n",
        "controls = [\n",
        "    \"d_jan\",\"d_feb\",\"d_mar\",\"d_apr\",\"d_may\",\"d_sep\",\"d_oct\",\"d_nov\",\"d_dec\",\n",
        "    \"school_easter\",\"school_ht_feb\",\"school_ht_may\",\"school_ht_oct\",\"payday_25\",\n",
        "    \"bh_ny\",\"bh_xmas\",\"day_valentine\",\"ww_nat_dlta_maxtemp\",\"ww_nat_dlta_rain\",\n",
        "    \"ww_nat_dlta_sun\",\"rsi_nfood_vol_sa\",\"dist_xf\",\n",
        "    \"price_se_xf\",\"prom_tft\",\"pos_fsdu\",\"comp_lor_tot\",\"comp_no7_tot\"\n",
        "]\n",
        "\n",
        "channels = [\n",
        "    \"m_wow_tv\",\"m_wow_olv\",\"m_wow_social\",\"m_amaze_tot\",\"m_celeb_tv\",\"m_celeb_outdoor\",\"m_celeb_display\"\n",
        "]\n",
        "\n",
        "builder = (\n",
        "    builder\n",
        "        .with_kpi(df)\n",
        "        .with_revenue_per_kpi(df)\n",
        "        .with_controls(df, control_cols=controls)\n",
        ")\n",
        "\n",
        "builder = builder.with_media(\n",
        "    df,\n",
        "    media_cols=channels,\n",
        "    media_spend_cols=channels,\n",
        "    media_channels=channels,\n",
        ")\n",
        "\n",
        "data = builder.build()\n"
      ]
    },
    {
      "cell_type": "markdown",
      "metadata": {
        "id": "FO6pDd6f2V1L"
      },
      "source": [
        "<a name=\"configure-model\"></a>\n",
        "\n",
        "## Step 2: Configure the model\n"
      ]
    },
    {
      "cell_type": "markdown",
      "metadata": {
        "id": "a_mQI7HzxxK4"
      },
      "source": []
    },
    {
      "cell_type": "code",
      "execution_count": 25,
      "metadata": {
        "id": "8XNDd7HX1qTn"
      },
      "outputs": [
        {
          "name": "stderr",
          "output_type": "stream",
          "text": [
            "c:\\Users\\User\\repos\\MMM\\.venv\\Lib\\site-packages\\meridian\\model\\model.py:66: UserWarning: In a nationally aggregated model, the `media_effects_dist` will be reset to `normal`.\n",
            "  warnings.warn(\n"
          ]
        }
      ],
      "source": [
        "roi_mu = 0.2  # Mu for ROI prior for each media channel.\n",
        "roi_sigma = 0.9  # Sigma for ROI prior for each media channel.\n",
        "prior = prior_distribution.PriorDistribution(\n",
        "    roi_m=tfp.distributions.LogNormal(roi_mu, roi_sigma, name=constants.ROI_M)\n",
        ")\n",
        "model_spec = spec.ModelSpec(prior=prior)\n",
        "\n",
        "mmm = model.Meridian(input_data=data, model_spec=model_spec)"
      ]
    },
    {
      "cell_type": "markdown",
      "metadata": {
        "id": "kPQBPlX8cmEv"
      },
      "source": [
        "2\\. Use the `sample_prior()` and `sample_posterior()` methods to obtain samples from the prior and posterior distributions of model parameters. If you are using the T4 GPU runtime this step may take about 10 minutes for the provided data set.\n"
      ]
    },
    {
      "cell_type": "code",
      "execution_count": null,
      "metadata": {
        "id": "KVB3avRdcRNz"
      },
      "outputs": [
        {
          "name": "stderr",
          "output_type": "stream",
          "text": [
            "c:\\Users\\User\\repos\\MMM\\.venv\\Lib\\site-packages\\meridian\\model\\prior_distribution.py:915: UserWarning: Hierarchical distribution parameters must be deterministically zero for national models. tau_g_excl_baseline has been automatically set to Deterministic(0).\n",
            "  warnings.warn(\n",
            "c:\\Users\\User\\repos\\MMM\\.venv\\Lib\\site-packages\\meridian\\model\\prior_distribution.py:915: UserWarning: Hierarchical distribution parameters must be deterministically zero for national models. eta_m has been automatically set to Deterministic(0).\n",
            "  warnings.warn(\n",
            "c:\\Users\\User\\repos\\MMM\\.venv\\Lib\\site-packages\\meridian\\model\\prior_distribution.py:915: UserWarning: Hierarchical distribution parameters must be deterministically zero for national models. eta_rf has been automatically set to Deterministic(0).\n",
            "  warnings.warn(\n",
            "c:\\Users\\User\\repos\\MMM\\.venv\\Lib\\site-packages\\meridian\\model\\prior_distribution.py:915: UserWarning: Hierarchical distribution parameters must be deterministically zero for national models. eta_om has been automatically set to Deterministic(0).\n",
            "  warnings.warn(\n",
            "c:\\Users\\User\\repos\\MMM\\.venv\\Lib\\site-packages\\meridian\\model\\prior_distribution.py:915: UserWarning: Hierarchical distribution parameters must be deterministically zero for national models. eta_orf has been automatically set to Deterministic(0).\n",
            "  warnings.warn(\n",
            "c:\\Users\\User\\repos\\MMM\\.venv\\Lib\\site-packages\\meridian\\model\\prior_distribution.py:915: UserWarning: Hierarchical distribution parameters must be deterministically zero for national models. xi_c has been automatically set to Deterministic(0).\n",
            "  warnings.warn(\n",
            "c:\\Users\\User\\repos\\MMM\\.venv\\Lib\\site-packages\\meridian\\model\\prior_distribution.py:915: UserWarning: Hierarchical distribution parameters must be deterministically zero for national models. xi_n has been automatically set to Deterministic(0).\n",
            "  warnings.warn(\n"
          ]
        }
      ],
      "source": [
        "%%time\n",
        "mmm.sample_prior(500)\n",
        "mmm.sample_posterior(\n",
        "    n_chains=10, n_adapt=2000, n_burnin=500, n_keep=1000, seed=0\n",
        ")"
      ]
    },
    {
      "cell_type": "markdown",
      "metadata": {
        "id": "5WUM2V26cspo"
      },
      "source": [
        "For more information about configuring the parameters and using a customized model specification, such as setting different ROI priors for each media channel, see [Configure the model](https://developers.google.com/meridian/docs/user-guide/configure-model).\n"
      ]
    },
    {
      "cell_type": "markdown",
      "metadata": {
        "id": "t9oECJwUdJTm"
      },
      "source": [
        "<a name=\"model-diagnostics\"></a>\n",
        "\n",
        "## Step 3: Run model diagnostics\n"
      ]
    },
    {
      "cell_type": "markdown",
      "metadata": {
        "id": "kSzK6JeMxrV6"
      },
      "source": [
        "After the model is built, you must assess convergence, debug the model if needed, and then assess the model fit.\n",
        "\n",
        "1\\. Assess convergence. Run the following code to generate r-hat statistics. R-hat close to 1.0 indicate convergence. R-hat < 1.2 indicates approximate convergence and is a reasonable threshold for many problems.\n"
      ]
    },
    {
      "cell_type": "code",
      "execution_count": null,
      "metadata": {
        "id": "rFuc7B86yLvM"
      },
      "outputs": [],
      "source": [
        "model_diagnostics = visualizer.ModelDiagnostics(mmm)\n",
        "model_diagnostics.plot_rhat_boxplot()"
      ]
    },
    {
      "cell_type": "markdown",
      "metadata": {
        "id": "nCwt5SGYxlaE"
      },
      "source": [
        "2\\. Assess the model's fit by comparing the expected sales against the actual sales.\n"
      ]
    },
    {
      "cell_type": "code",
      "execution_count": null,
      "metadata": {
        "id": "7Z4zJtHyyhif"
      },
      "outputs": [],
      "source": [
        "model_fit = visualizer.ModelFit(mmm)\n",
        "model_fit.plot_model_fit()"
      ]
    },
    {
      "cell_type": "markdown",
      "metadata": {
        "id": "76IBQcWLu980"
      },
      "source": [
        "For more information and additional model diagnostics checks, see [Modeling diagnostics](https://developers.google.com/meridian/docs/user-guide/model-diagnostics).\n"
      ]
    },
    {
      "cell_type": "markdown",
      "metadata": {
        "id": "zGUOFFbCdOtl"
      },
      "source": [
        "<a name=\"generate-summary\"></a>\n",
        "\n",
        "## Step 4: Generate model results & two-page output\n"
      ]
    },
    {
      "cell_type": "markdown",
      "metadata": {
        "id": "puHjkyvZEOEg"
      },
      "source": [
        "To export the two-page HTML summary output, initialize the `Summarizer` class with the model object. Then pass in the filename, filepath, start date, and end date to `output_model_results_summary` to run the summary for that time duration and save it to the specified file.\n"
      ]
    },
    {
      "cell_type": "code",
      "execution_count": null,
      "metadata": {
        "id": "keOpq1qKNbq0"
      },
      "outputs": [],
      "source": [
        "mmm_summarizer = summarizer.Summarizer(mmm)"
      ]
    },
    {
      "cell_type": "code",
      "execution_count": null,
      "metadata": {
        "id": "Ltr4uP80YQe7"
      },
      "outputs": [],
      "source": [
        "from google.colab import drive\n",
        "\n",
        "drive.mount('/content/drive')"
      ]
    },
    {
      "cell_type": "code",
      "execution_count": null,
      "metadata": {
        "id": "qbgNaDYpIfQl"
      },
      "outputs": [],
      "source": [
        "filepath = '/content/drive/MyDrive'\n",
        "start_date = '2021-01-05'\n",
        "end_date = '2024-08-27'\n",
        "mmm_summarizer.output_model_results_summary(\n",
        "    'mock_model_summary_output.html', filepath, start_date, end_date\n",
        ")"
      ]
    },
    {
      "cell_type": "markdown",
      "metadata": {
        "id": "j9sBxuvidmr8"
      },
      "source": [
        "Here is a preview of the two-page output based on the simulated data:\n"
      ]
    },
    {
      "cell_type": "code",
      "execution_count": null,
      "metadata": {
        "id": "vaUe7uZRfJPm"
      },
      "outputs": [],
      "source": [
        "IPython.display.HTML(filename='/content/drive/MyDrive/mock_model_summary_output.html')"
      ]
    },
    {
      "cell_type": "markdown",
      "metadata": {
        "id": "PphWMfKdwPIw"
      },
      "source": [
        "For a customized two-page report, model results summary table, and individual visualizations, see [Model results report](https://developers.google.com/meridian/docs/user-guide/generate-model-results-report) and [plot media visualizations](https://developers.google.com/meridian/docs/user-guide/plot-media-visualizations).\n"
      ]
    },
    {
      "cell_type": "markdown",
      "metadata": {
        "id": "1kamZpyv8KMh"
      },
      "source": [
        "Run the following codes to save the model object:\n"
      ]
    },
    {
      "cell_type": "code",
      "execution_count": null,
      "metadata": {
        "id": "FfaQQ8-fTw0K"
      },
      "outputs": [],
      "source": [
        "file_path = '/content/drive/MyDrive/saved_mmm.pkl'\n",
        "model.save_mmm(mmm, file_path)"
      ]
    },
    {
      "cell_type": "markdown",
      "metadata": {
        "id": "k2v_s2uS8PgA"
      },
      "source": [
        "Run the following codes to load the saved model:\n"
      ]
    },
    {
      "cell_type": "code",
      "execution_count": 30,
      "metadata": {},
      "outputs": [],
      "source": [
        "## load from local\n",
        "\n",
        "file_path = \"Results\\\\saved_mmm_additive.pkl\"\n",
        "mmm = model.load_mmm(file_path)"
      ]
    },
    {
      "cell_type": "code",
      "execution_count": null,
      "metadata": {},
      "outputs": [],
      "source": [
        "mmm_summarizer = summarizer.Summarizer(mmm)\n",
        "analyzer2 = analyzer.Analyzer(mmm)\n",
        "mediaEffects = visualizer.MediaEffects(mmm)\n",
        "\n",
        "\n"
      ]
    },
    {
      "cell_type": "code",
      "execution_count": 43,
      "metadata": {},
      "outputs": [
        {
          "data": {
            "text/html": [
              "<div><svg style=\"position: absolute; width: 0; height: 0; overflow: hidden\">\n",
              "<defs>\n",
              "<symbol id=\"icon-database\" viewBox=\"0 0 32 32\">\n",
              "<path d=\"M16 0c-8.837 0-16 2.239-16 5v4c0 2.761 7.163 5 16 5s16-2.239 16-5v-4c0-2.761-7.163-5-16-5z\"></path>\n",
              "<path d=\"M16 17c-8.837 0-16-2.239-16-5v6c0 2.761 7.163 5 16 5s16-2.239 16-5v-6c0 2.761-7.163 5-16 5z\"></path>\n",
              "<path d=\"M16 26c-8.837 0-16-2.239-16-5v6c0 2.761 7.163 5 16 5s16-2.239 16-5v-6c0 2.761-7.163 5-16 5z\"></path>\n",
              "</symbol>\n",
              "<symbol id=\"icon-file-text2\" viewBox=\"0 0 32 32\">\n",
              "<path d=\"M28.681 7.159c-0.694-0.947-1.662-2.053-2.724-3.116s-2.169-2.030-3.116-2.724c-1.612-1.182-2.393-1.319-2.841-1.319h-15.5c-1.378 0-2.5 1.121-2.5 2.5v27c0 1.378 1.122 2.5 2.5 2.5h23c1.378 0 2.5-1.122 2.5-2.5v-19.5c0-0.448-0.137-1.23-1.319-2.841zM24.543 5.457c0.959 0.959 1.712 1.825 2.268 2.543h-4.811v-4.811c0.718 0.556 1.584 1.309 2.543 2.268zM28 29.5c0 0.271-0.229 0.5-0.5 0.5h-23c-0.271 0-0.5-0.229-0.5-0.5v-27c0-0.271 0.229-0.5 0.5-0.5 0 0 15.499-0 15.5 0v7c0 0.552 0.448 1 1 1h7v19.5z\"></path>\n",
              "<path d=\"M23 26h-14c-0.552 0-1-0.448-1-1s0.448-1 1-1h14c0.552 0 1 0.448 1 1s-0.448 1-1 1z\"></path>\n",
              "<path d=\"M23 22h-14c-0.552 0-1-0.448-1-1s0.448-1 1-1h14c0.552 0 1 0.448 1 1s-0.448 1-1 1z\"></path>\n",
              "<path d=\"M23 18h-14c-0.552 0-1-0.448-1-1s0.448-1 1-1h14c0.552 0 1 0.448 1 1s-0.448 1-1 1z\"></path>\n",
              "</symbol>\n",
              "</defs>\n",
              "</svg>\n",
              "<style>/* CSS stylesheet for displaying xarray objects in jupyterlab.\n",
              " *\n",
              " */\n",
              "\n",
              ":root {\n",
              "  --xr-font-color0: var(\n",
              "    --jp-content-font-color0,\n",
              "    var(--pst-color-text-base rgba(0, 0, 0, 1))\n",
              "  );\n",
              "  --xr-font-color2: var(\n",
              "    --jp-content-font-color2,\n",
              "    var(--pst-color-text-base, rgba(0, 0, 0, 0.54))\n",
              "  );\n",
              "  --xr-font-color3: var(\n",
              "    --jp-content-font-color3,\n",
              "    var(--pst-color-text-base, rgba(0, 0, 0, 0.38))\n",
              "  );\n",
              "  --xr-border-color: var(\n",
              "    --jp-border-color2,\n",
              "    hsl(from var(--pst-color-on-background, white) h s calc(l - 10))\n",
              "  );\n",
              "  --xr-disabled-color: var(\n",
              "    --jp-layout-color3,\n",
              "    hsl(from var(--pst-color-on-background, white) h s calc(l - 40))\n",
              "  );\n",
              "  --xr-background-color: var(\n",
              "    --jp-layout-color0,\n",
              "    var(--pst-color-on-background, white)\n",
              "  );\n",
              "  --xr-background-color-row-even: var(\n",
              "    --jp-layout-color1,\n",
              "    hsl(from var(--pst-color-on-background, white) h s calc(l - 5))\n",
              "  );\n",
              "  --xr-background-color-row-odd: var(\n",
              "    --jp-layout-color2,\n",
              "    hsl(from var(--pst-color-on-background, white) h s calc(l - 15))\n",
              "  );\n",
              "}\n",
              "\n",
              "html[theme=\"dark\"],\n",
              "html[data-theme=\"dark\"],\n",
              "body[data-theme=\"dark\"],\n",
              "body.vscode-dark {\n",
              "  --xr-font-color0: var(\n",
              "    --jp-content-font-color0,\n",
              "    var(--pst-color-text-base, rgba(255, 255, 255, 1))\n",
              "  );\n",
              "  --xr-font-color2: var(\n",
              "    --jp-content-font-color2,\n",
              "    var(--pst-color-text-base, rgba(255, 255, 255, 0.54))\n",
              "  );\n",
              "  --xr-font-color3: var(\n",
              "    --jp-content-font-color3,\n",
              "    var(--pst-color-text-base, rgba(255, 255, 255, 0.38))\n",
              "  );\n",
              "  --xr-border-color: var(\n",
              "    --jp-border-color2,\n",
              "    hsl(from var(--pst-color-on-background, #111111) h s calc(l + 10))\n",
              "  );\n",
              "  --xr-disabled-color: var(\n",
              "    --jp-layout-color3,\n",
              "    hsl(from var(--pst-color-on-background, #111111) h s calc(l + 40))\n",
              "  );\n",
              "  --xr-background-color: var(\n",
              "    --jp-layout-color0,\n",
              "    var(--pst-color-on-background, #111111)\n",
              "  );\n",
              "  --xr-background-color-row-even: var(\n",
              "    --jp-layout-color1,\n",
              "    hsl(from var(--pst-color-on-background, #111111) h s calc(l + 5))\n",
              "  );\n",
              "  --xr-background-color-row-odd: var(\n",
              "    --jp-layout-color2,\n",
              "    hsl(from var(--pst-color-on-background, #111111) h s calc(l + 15))\n",
              "  );\n",
              "}\n",
              "\n",
              ".xr-wrap {\n",
              "  display: block !important;\n",
              "  min-width: 300px;\n",
              "  max-width: 700px;\n",
              "}\n",
              "\n",
              ".xr-text-repr-fallback {\n",
              "  /* fallback to plain text repr when CSS is not injected (untrusted notebook) */\n",
              "  display: none;\n",
              "}\n",
              "\n",
              ".xr-header {\n",
              "  padding-top: 6px;\n",
              "  padding-bottom: 6px;\n",
              "  margin-bottom: 4px;\n",
              "  border-bottom: solid 1px var(--xr-border-color);\n",
              "}\n",
              "\n",
              ".xr-header > div,\n",
              ".xr-header > ul {\n",
              "  display: inline;\n",
              "  margin-top: 0;\n",
              "  margin-bottom: 0;\n",
              "}\n",
              "\n",
              ".xr-obj-type,\n",
              ".xr-array-name {\n",
              "  margin-left: 2px;\n",
              "  margin-right: 10px;\n",
              "}\n",
              "\n",
              ".xr-obj-type {\n",
              "  color: var(--xr-font-color2);\n",
              "}\n",
              "\n",
              ".xr-sections {\n",
              "  padding-left: 0 !important;\n",
              "  display: grid;\n",
              "  grid-template-columns: 150px auto auto 1fr 0 20px 0 20px;\n",
              "}\n",
              "\n",
              ".xr-section-item {\n",
              "  display: contents;\n",
              "}\n",
              "\n",
              ".xr-section-item input {\n",
              "  display: inline-block;\n",
              "  opacity: 0;\n",
              "  height: 0;\n",
              "}\n",
              "\n",
              ".xr-section-item input + label {\n",
              "  color: var(--xr-disabled-color);\n",
              "  border: 2px solid transparent !important;\n",
              "}\n",
              "\n",
              ".xr-section-item input:enabled + label {\n",
              "  cursor: pointer;\n",
              "  color: var(--xr-font-color2);\n",
              "}\n",
              "\n",
              ".xr-section-item input:focus + label {\n",
              "  border: 2px solid var(--xr-font-color0) !important;\n",
              "}\n",
              "\n",
              ".xr-section-item input:enabled + label:hover {\n",
              "  color: var(--xr-font-color0);\n",
              "}\n",
              "\n",
              ".xr-section-summary {\n",
              "  grid-column: 1;\n",
              "  color: var(--xr-font-color2);\n",
              "  font-weight: 500;\n",
              "}\n",
              "\n",
              ".xr-section-summary > span {\n",
              "  display: inline-block;\n",
              "  padding-left: 0.5em;\n",
              "}\n",
              "\n",
              ".xr-section-summary-in:disabled + label {\n",
              "  color: var(--xr-font-color2);\n",
              "}\n",
              "\n",
              ".xr-section-summary-in + label:before {\n",
              "  display: inline-block;\n",
              "  content: \"►\";\n",
              "  font-size: 11px;\n",
              "  width: 15px;\n",
              "  text-align: center;\n",
              "}\n",
              "\n",
              ".xr-section-summary-in:disabled + label:before {\n",
              "  color: var(--xr-disabled-color);\n",
              "}\n",
              "\n",
              ".xr-section-summary-in:checked + label:before {\n",
              "  content: \"▼\";\n",
              "}\n",
              "\n",
              ".xr-section-summary-in:checked + label > span {\n",
              "  display: none;\n",
              "}\n",
              "\n",
              ".xr-section-summary,\n",
              ".xr-section-inline-details {\n",
              "  padding-top: 4px;\n",
              "  padding-bottom: 4px;\n",
              "}\n",
              "\n",
              ".xr-section-inline-details {\n",
              "  grid-column: 2 / -1;\n",
              "}\n",
              "\n",
              ".xr-section-details {\n",
              "  display: none;\n",
              "  grid-column: 1 / -1;\n",
              "  margin-bottom: 5px;\n",
              "}\n",
              "\n",
              ".xr-section-summary-in:checked ~ .xr-section-details {\n",
              "  display: contents;\n",
              "}\n",
              "\n",
              ".xr-array-wrap {\n",
              "  grid-column: 1 / -1;\n",
              "  display: grid;\n",
              "  grid-template-columns: 20px auto;\n",
              "}\n",
              "\n",
              ".xr-array-wrap > label {\n",
              "  grid-column: 1;\n",
              "  vertical-align: top;\n",
              "}\n",
              "\n",
              ".xr-preview {\n",
              "  color: var(--xr-font-color3);\n",
              "}\n",
              "\n",
              ".xr-array-preview,\n",
              ".xr-array-data {\n",
              "  padding: 0 5px !important;\n",
              "  grid-column: 2;\n",
              "}\n",
              "\n",
              ".xr-array-data,\n",
              ".xr-array-in:checked ~ .xr-array-preview {\n",
              "  display: none;\n",
              "}\n",
              "\n",
              ".xr-array-in:checked ~ .xr-array-data,\n",
              ".xr-array-preview {\n",
              "  display: inline-block;\n",
              "}\n",
              "\n",
              ".xr-dim-list {\n",
              "  display: inline-block !important;\n",
              "  list-style: none;\n",
              "  padding: 0 !important;\n",
              "  margin: 0;\n",
              "}\n",
              "\n",
              ".xr-dim-list li {\n",
              "  display: inline-block;\n",
              "  padding: 0;\n",
              "  margin: 0;\n",
              "}\n",
              "\n",
              ".xr-dim-list:before {\n",
              "  content: \"(\";\n",
              "}\n",
              "\n",
              ".xr-dim-list:after {\n",
              "  content: \")\";\n",
              "}\n",
              "\n",
              ".xr-dim-list li:not(:last-child):after {\n",
              "  content: \",\";\n",
              "  padding-right: 5px;\n",
              "}\n",
              "\n",
              ".xr-has-index {\n",
              "  font-weight: bold;\n",
              "}\n",
              "\n",
              ".xr-var-list,\n",
              ".xr-var-item {\n",
              "  display: contents;\n",
              "}\n",
              "\n",
              ".xr-var-item > div,\n",
              ".xr-var-item label,\n",
              ".xr-var-item > .xr-var-name span {\n",
              "  background-color: var(--xr-background-color-row-even);\n",
              "  border-color: var(--xr-background-color-row-odd);\n",
              "  margin-bottom: 0;\n",
              "  padding-top: 2px;\n",
              "}\n",
              "\n",
              ".xr-var-item > .xr-var-name:hover span {\n",
              "  padding-right: 5px;\n",
              "}\n",
              "\n",
              ".xr-var-list > li:nth-child(odd) > div,\n",
              ".xr-var-list > li:nth-child(odd) > label,\n",
              ".xr-var-list > li:nth-child(odd) > .xr-var-name span {\n",
              "  background-color: var(--xr-background-color-row-odd);\n",
              "  border-color: var(--xr-background-color-row-even);\n",
              "}\n",
              "\n",
              ".xr-var-name {\n",
              "  grid-column: 1;\n",
              "}\n",
              "\n",
              ".xr-var-dims {\n",
              "  grid-column: 2;\n",
              "}\n",
              "\n",
              ".xr-var-dtype {\n",
              "  grid-column: 3;\n",
              "  text-align: right;\n",
              "  color: var(--xr-font-color2);\n",
              "}\n",
              "\n",
              ".xr-var-preview {\n",
              "  grid-column: 4;\n",
              "}\n",
              "\n",
              ".xr-index-preview {\n",
              "  grid-column: 2 / 5;\n",
              "  color: var(--xr-font-color2);\n",
              "}\n",
              "\n",
              ".xr-var-name,\n",
              ".xr-var-dims,\n",
              ".xr-var-dtype,\n",
              ".xr-preview,\n",
              ".xr-attrs dt {\n",
              "  white-space: nowrap;\n",
              "  overflow: hidden;\n",
              "  text-overflow: ellipsis;\n",
              "  padding-right: 10px;\n",
              "}\n",
              "\n",
              ".xr-var-name:hover,\n",
              ".xr-var-dims:hover,\n",
              ".xr-var-dtype:hover,\n",
              ".xr-attrs dt:hover {\n",
              "  overflow: visible;\n",
              "  width: auto;\n",
              "  z-index: 1;\n",
              "}\n",
              "\n",
              ".xr-var-attrs,\n",
              ".xr-var-data,\n",
              ".xr-index-data {\n",
              "  display: none;\n",
              "  border-top: 2px dotted var(--xr-background-color);\n",
              "  padding-bottom: 20px !important;\n",
              "  padding-top: 10px !important;\n",
              "}\n",
              "\n",
              ".xr-var-attrs-in + label,\n",
              ".xr-var-data-in + label,\n",
              ".xr-index-data-in + label {\n",
              "  padding: 0 1px;\n",
              "}\n",
              "\n",
              ".xr-var-attrs-in:checked ~ .xr-var-attrs,\n",
              ".xr-var-data-in:checked ~ .xr-var-data,\n",
              ".xr-index-data-in:checked ~ .xr-index-data {\n",
              "  display: block;\n",
              "}\n",
              "\n",
              ".xr-var-data > table {\n",
              "  float: right;\n",
              "}\n",
              "\n",
              ".xr-var-data > pre,\n",
              ".xr-index-data > pre,\n",
              ".xr-var-data > table > tbody > tr {\n",
              "  background-color: transparent !important;\n",
              "}\n",
              "\n",
              ".xr-var-name span,\n",
              ".xr-var-data,\n",
              ".xr-index-name div,\n",
              ".xr-index-data,\n",
              ".xr-attrs {\n",
              "  padding-left: 25px !important;\n",
              "}\n",
              "\n",
              ".xr-attrs,\n",
              ".xr-var-attrs,\n",
              ".xr-var-data,\n",
              ".xr-index-data {\n",
              "  grid-column: 1 / -1;\n",
              "}\n",
              "\n",
              "dl.xr-attrs {\n",
              "  padding: 0;\n",
              "  margin: 0;\n",
              "  display: grid;\n",
              "  grid-template-columns: 125px auto;\n",
              "}\n",
              "\n",
              ".xr-attrs dt,\n",
              ".xr-attrs dd {\n",
              "  padding: 0;\n",
              "  margin: 0;\n",
              "  float: left;\n",
              "  padding-right: 10px;\n",
              "  width: auto;\n",
              "}\n",
              "\n",
              ".xr-attrs dt {\n",
              "  font-weight: normal;\n",
              "  grid-column: 1;\n",
              "}\n",
              "\n",
              ".xr-attrs dt:hover span {\n",
              "  display: inline-block;\n",
              "  background: var(--xr-background-color);\n",
              "  padding-right: 10px;\n",
              "}\n",
              "\n",
              ".xr-attrs dd {\n",
              "  grid-column: 2;\n",
              "  white-space: pre-wrap;\n",
              "  word-break: break-all;\n",
              "}\n",
              "\n",
              ".xr-icon-database,\n",
              ".xr-icon-file-text2,\n",
              ".xr-no-icon {\n",
              "  display: inline-block;\n",
              "  vertical-align: middle;\n",
              "  width: 1em;\n",
              "  height: 1.5em !important;\n",
              "  stroke-width: 0;\n",
              "  stroke: currentColor;\n",
              "  fill: currentColor;\n",
              "}\n",
              "\n",
              ".xr-var-attrs-in:checked + label > .xr-icon-file-text2,\n",
              ".xr-var-data-in:checked + label > .xr-icon-database,\n",
              ".xr-index-data-in:checked + label > .xr-icon-database {\n",
              "  color: var(--xr-font-color0);\n",
              "  filter: drop-shadow(1px 1px 5px var(--xr-font-color2));\n",
              "  stroke-width: 0.8px;\n",
              "}\n",
              "</style><pre class='xr-text-repr-fallback'>&lt;xarray.Dataset&gt; Size: 264B\n",
              "Dimensions:              (metric: 4, distribution: 2)\n",
              "Coordinates:\n",
              "  * metric               (metric) &lt;U6 96B &#x27;mean&#x27; &#x27;median&#x27; &#x27;ci_lo&#x27; &#x27;ci_hi&#x27;\n",
              "  * distribution         (distribution) &lt;U9 72B &#x27;prior&#x27; &#x27;posterior&#x27;\n",
              "    channel              &lt;U8 32B &#x27;baseline&#x27;\n",
              "Data variables:\n",
              "    baseline_outcome     (metric, distribution) float32 32B 1.679e+09 ... 1.5...\n",
              "    pct_of_contribution  (metric, distribution) float32 32B 98.14 ... 97.96</pre><div class='xr-wrap' style='display:none'><div class='xr-header'><div class='xr-obj-type'>xarray.Dataset</div></div><ul class='xr-sections'><li class='xr-section-item'><input id='section-4d159c0b-c073-4235-80b6-fa6171e6e052' class='xr-section-summary-in' type='checkbox' disabled ><label for='section-4d159c0b-c073-4235-80b6-fa6171e6e052' class='xr-section-summary'  title='Expand/collapse section'>Dimensions:</label><div class='xr-section-inline-details'><ul class='xr-dim-list'><li><span class='xr-has-index'>metric</span>: 4</li><li><span class='xr-has-index'>distribution</span>: 2</li></ul></div><div class='xr-section-details'></div></li><li class='xr-section-item'><input id='section-323e9d50-72ed-4226-9cc9-f2f002ae5a9b' class='xr-section-summary-in' type='checkbox'  checked><label for='section-323e9d50-72ed-4226-9cc9-f2f002ae5a9b' class='xr-section-summary' >Coordinates: <span>(3)</span></label><div class='xr-section-inline-details'></div><div class='xr-section-details'><ul class='xr-var-list'><li class='xr-var-item'><div class='xr-var-name'><span class='xr-has-index'>metric</span></div><div class='xr-var-dims'>(metric)</div><div class='xr-var-dtype'>&lt;U6</div><div class='xr-var-preview xr-preview'>&#x27;mean&#x27; &#x27;median&#x27; &#x27;ci_lo&#x27; &#x27;ci_hi&#x27;</div><input id='attrs-a9990fef-e60c-4bc9-8073-9e190cc1376c' class='xr-var-attrs-in' type='checkbox' disabled><label for='attrs-a9990fef-e60c-4bc9-8073-9e190cc1376c' title='Show/Hide attributes'><svg class='icon xr-icon-file-text2'><use xlink:href='#icon-file-text2'></use></svg></label><input id='data-d8089611-abe2-4a8d-9838-82107f6783d6' class='xr-var-data-in' type='checkbox'><label for='data-d8089611-abe2-4a8d-9838-82107f6783d6' title='Show/Hide data repr'><svg class='icon xr-icon-database'><use xlink:href='#icon-database'></use></svg></label><div class='xr-var-attrs'><dl class='xr-attrs'></dl></div><div class='xr-var-data'><pre>array([&#x27;mean&#x27;, &#x27;median&#x27;, &#x27;ci_lo&#x27;, &#x27;ci_hi&#x27;], dtype=&#x27;&lt;U6&#x27;)</pre></div></li><li class='xr-var-item'><div class='xr-var-name'><span class='xr-has-index'>distribution</span></div><div class='xr-var-dims'>(distribution)</div><div class='xr-var-dtype'>&lt;U9</div><div class='xr-var-preview xr-preview'>&#x27;prior&#x27; &#x27;posterior&#x27;</div><input id='attrs-b8fe89aa-1662-4c4c-a401-844e6a61a684' class='xr-var-attrs-in' type='checkbox' disabled><label for='attrs-b8fe89aa-1662-4c4c-a401-844e6a61a684' title='Show/Hide attributes'><svg class='icon xr-icon-file-text2'><use xlink:href='#icon-file-text2'></use></svg></label><input id='data-22211228-da43-41ca-8981-f08ee88659f5' class='xr-var-data-in' type='checkbox'><label for='data-22211228-da43-41ca-8981-f08ee88659f5' title='Show/Hide data repr'><svg class='icon xr-icon-database'><use xlink:href='#icon-database'></use></svg></label><div class='xr-var-attrs'><dl class='xr-attrs'></dl></div><div class='xr-var-data'><pre>array([&#x27;prior&#x27;, &#x27;posterior&#x27;], dtype=&#x27;&lt;U9&#x27;)</pre></div></li><li class='xr-var-item'><div class='xr-var-name'><span>channel</span></div><div class='xr-var-dims'>()</div><div class='xr-var-dtype'>&lt;U8</div><div class='xr-var-preview xr-preview'>&#x27;baseline&#x27;</div><input id='attrs-25d45603-88be-4cc7-a377-4644e02b57ee' class='xr-var-attrs-in' type='checkbox' disabled><label for='attrs-25d45603-88be-4cc7-a377-4644e02b57ee' title='Show/Hide attributes'><svg class='icon xr-icon-file-text2'><use xlink:href='#icon-file-text2'></use></svg></label><input id='data-d41b11de-1a91-4210-bc8c-d454084af93e' class='xr-var-data-in' type='checkbox'><label for='data-d41b11de-1a91-4210-bc8c-d454084af93e' title='Show/Hide data repr'><svg class='icon xr-icon-database'><use xlink:href='#icon-database'></use></svg></label><div class='xr-var-attrs'><dl class='xr-attrs'></dl></div><div class='xr-var-data'><pre>array(&#x27;baseline&#x27;, dtype=&#x27;&lt;U8&#x27;)</pre></div></li></ul></div></li><li class='xr-section-item'><input id='section-781fc0f1-7f7b-44ad-9d5b-859682577ec8' class='xr-section-summary-in' type='checkbox'  checked><label for='section-781fc0f1-7f7b-44ad-9d5b-859682577ec8' class='xr-section-summary' >Data variables: <span>(2)</span></label><div class='xr-section-inline-details'></div><div class='xr-section-details'><ul class='xr-var-list'><li class='xr-var-item'><div class='xr-var-name'><span>baseline_outcome</span></div><div class='xr-var-dims'>(metric, distribution)</div><div class='xr-var-dtype'>float32</div><div class='xr-var-preview xr-preview'>1.679e+09 1.565e+09 ... 1.582e+09</div><input id='attrs-1f3fa3f2-4574-4a19-acfb-89bce41880e9' class='xr-var-attrs-in' type='checkbox' disabled><label for='attrs-1f3fa3f2-4574-4a19-acfb-89bce41880e9' title='Show/Hide attributes'><svg class='icon xr-icon-file-text2'><use xlink:href='#icon-file-text2'></use></svg></label><input id='data-e578087d-41d6-4897-a7a8-0b69dab40d39' class='xr-var-data-in' type='checkbox'><label for='data-e578087d-41d6-4897-a7a8-0b69dab40d39' title='Show/Hide data repr'><svg class='icon xr-icon-database'><use xlink:href='#icon-database'></use></svg></label><div class='xr-var-attrs'><dl class='xr-attrs'></dl></div><div class='xr-var-data'><pre>array([[ 1.6790743e+09,  1.5653855e+09],\n",
              "       [ 1.7091940e+09,  1.5655864e+09],\n",
              "       [-7.1454746e+08,  1.5471377e+09],\n",
              "       [ 4.0148600e+09,  1.5822579e+09]], dtype=float32)</pre></div></li><li class='xr-var-item'><div class='xr-var-name'><span>pct_of_contribution</span></div><div class='xr-var-dims'>(metric, distribution)</div><div class='xr-var-dtype'>float32</div><div class='xr-var-preview xr-preview'>98.14 96.92 99.9 ... 234.7 97.96</div><input id='attrs-d489e0a9-d5ef-47f4-8c6d-244739fa131c' class='xr-var-attrs-in' type='checkbox' disabled><label for='attrs-d489e0a9-d5ef-47f4-8c6d-244739fa131c' title='Show/Hide attributes'><svg class='icon xr-icon-file-text2'><use xlink:href='#icon-file-text2'></use></svg></label><input id='data-7d290f7b-9ba6-4d95-b2d7-d386c7ee2f90' class='xr-var-data-in' type='checkbox'><label for='data-7d290f7b-9ba6-4d95-b2d7-d386c7ee2f90' title='Show/Hide data repr'><svg class='icon xr-icon-database'><use xlink:href='#icon-database'></use></svg></label><div class='xr-var-attrs'><dl class='xr-attrs'></dl></div><div class='xr-var-data'><pre>array([[ 98.13892 ,  96.91809 ],\n",
              "       [ 99.89937 ,  96.93053 ],\n",
              "       [-41.764038,  95.7883  ],\n",
              "       [234.66147 ,  97.962715]], dtype=float32)</pre></div></li></ul></div></li><li class='xr-section-item'><input id='section-2e8a3153-7097-4ca7-8acc-f79d89da719a' class='xr-section-summary-in' type='checkbox'  ><label for='section-2e8a3153-7097-4ca7-8acc-f79d89da719a' class='xr-section-summary' >Indexes: <span>(2)</span></label><div class='xr-section-inline-details'></div><div class='xr-section-details'><ul class='xr-var-list'><li class='xr-var-item'><div class='xr-index-name'><div>metric</div></div><div class='xr-index-preview'>PandasIndex</div><input type='checkbox' disabled/><label></label><input id='index-c11c5895-88c4-4efd-a004-96b7cc35ad37' class='xr-index-data-in' type='checkbox'/><label for='index-c11c5895-88c4-4efd-a004-96b7cc35ad37' title='Show/Hide index repr'><svg class='icon xr-icon-database'><use xlink:href='#icon-database'></use></svg></label><div class='xr-index-data'><pre>PandasIndex(Index([&#x27;mean&#x27;, &#x27;median&#x27;, &#x27;ci_lo&#x27;, &#x27;ci_hi&#x27;], dtype=&#x27;object&#x27;, name=&#x27;metric&#x27;))</pre></div></li><li class='xr-var-item'><div class='xr-index-name'><div>distribution</div></div><div class='xr-index-preview'>PandasIndex</div><input type='checkbox' disabled/><label></label><input id='index-d0c64357-2a10-4e7e-a76c-bbe4f7a23f90' class='xr-index-data-in' type='checkbox'/><label for='index-d0c64357-2a10-4e7e-a76c-bbe4f7a23f90' title='Show/Hide index repr'><svg class='icon xr-icon-database'><use xlink:href='#icon-database'></use></svg></label><div class='xr-index-data'><pre>PandasIndex(Index([&#x27;prior&#x27;, &#x27;posterior&#x27;], dtype=&#x27;object&#x27;, name=&#x27;distribution&#x27;))</pre></div></li></ul></div></li><li class='xr-section-item'><input id='section-ca124075-9252-4bed-92f8-e47cab113971' class='xr-section-summary-in' type='checkbox' disabled ><label for='section-ca124075-9252-4bed-92f8-e47cab113971' class='xr-section-summary'  title='Expand/collapse section'>Attributes: <span>(0)</span></label><div class='xr-section-inline-details'></div><div class='xr-section-details'><dl class='xr-attrs'></dl></div></li></ul></div></div>"
            ],
            "text/plain": [
              "<xarray.Dataset> Size: 264B\n",
              "Dimensions:              (metric: 4, distribution: 2)\n",
              "Coordinates:\n",
              "  * metric               (metric) <U6 96B 'mean' 'median' 'ci_lo' 'ci_hi'\n",
              "  * distribution         (distribution) <U9 72B 'prior' 'posterior'\n",
              "    channel              <U8 32B 'baseline'\n",
              "Data variables:\n",
              "    baseline_outcome     (metric, distribution) float32 32B 1.679e+09 ... 1.5...\n",
              "    pct_of_contribution  (metric, distribution) float32 32B 98.14 ... 97.96"
            ]
          },
          "execution_count": 43,
          "metadata": {},
          "output_type": "execute_result"
        }
      ],
      "source": [
        "analyzer2.baseline_summary_metrics()"
      ]
    },
    {
      "cell_type": "code",
      "execution_count": 44,
      "metadata": {},
      "outputs": [
        {
          "data": {
            "image/png": "[encoded data removed]",
            "text/plain": [
              "<Figure size 1200x600 with 1 Axes>"
            ]
          },
          "metadata": {},
          "output_type": "display_data"
        },
        {
          "data": {
            "application/vnd.microsoft.datawrangler.viewer.v0+json": {
              "columns": [
                {
                  "name": "channel",
                  "rawType": "object",
                  "type": "string"
                },
                {
                  "name": "mean",
                  "rawType": "float32",
                  "type": "float"
                },
                {
                  "name": "p5",
                  "rawType": "float64",
                  "type": "float"
                },
                {
                  "name": "p50",
                  "rawType": "float64",
                  "type": "float"
                },
                {
                  "name": "p95",
                  "rawType": "float64",
                  "type": "float"
                }
              ],
              "ref": "6dc2f2bd-10b0-410d-a52b-bd750f74e5cd",
              "rows": [
                [
                  "m_amaze_tot",
                  "3.3008",
                  "2.5144",
                  "3.303",
                  "4.1013"
                ],
                [
                  "m_celeb_display",
                  "1.161",
                  "0.2325",
                  "0.9038",
                  "2.9491"
                ],
                [
                  "m_celeb_outdoor",
                  "1.2824",
                  "0.2681",
                  "1.047",
                  "3.04"
                ],
                [
                  "m_celeb_tv",
                  "4.2357",
                  "1.4524",
                  "4.0577",
                  "7.6656"
                ],
                [
                  "m_wow_olv",
                  "2.4283",
                  "0.3336",
                  "1.6874",
                  "7.137"
                ],
                [
                  "m_wow_social",
                  "1.8112",
                  "0.2698",
                  "1.2142",
                  "5.313"
                ],
                [
                  "m_wow_tv",
                  "2.0766",
                  "0.5821",
                  "2.0002",
                  "3.8419"
                ]
              ],
              "shape": {
                "columns": 4,
                "rows": 7
              }
            },
            "text/html": [
              "<div>\n",
              "<style scoped>\n",
              "    .dataframe tbody tr th:only-of-type {\n",
              "        vertical-align: middle;\n",
              "    }\n",
              "\n",
              "    .dataframe tbody tr th {\n",
              "        vertical-align: top;\n",
              "    }\n",
              "\n",
              "    .dataframe thead th {\n",
              "        text-align: right;\n",
              "    }\n",
              "</style>\n",
              "<table border=\"1\" class=\"dataframe\">\n",
              "  <thead>\n",
              "    <tr style=\"text-align: right;\">\n",
              "      <th></th>\n",
              "      <th>mean</th>\n",
              "      <th>p5</th>\n",
              "      <th>p50</th>\n",
              "      <th>p95</th>\n",
              "    </tr>\n",
              "    <tr>\n",
              "      <th>channel</th>\n",
              "      <th></th>\n",
              "      <th></th>\n",
              "      <th></th>\n",
              "      <th></th>\n",
              "    </tr>\n",
              "  </thead>\n",
              "  <tbody>\n",
              "    <tr>\n",
              "      <th>m_amaze_tot</th>\n",
              "      <td>3.3008</td>\n",
              "      <td>2.5144</td>\n",
              "      <td>3.3030</td>\n",
              "      <td>4.1013</td>\n",
              "    </tr>\n",
              "    <tr>\n",
              "      <th>m_celeb_display</th>\n",
              "      <td>1.1610</td>\n",
              "      <td>0.2325</td>\n",
              "      <td>0.9038</td>\n",
              "      <td>2.9491</td>\n",
              "    </tr>\n",
              "    <tr>\n",
              "      <th>m_celeb_outdoor</th>\n",
              "      <td>1.2824</td>\n",
              "      <td>0.2681</td>\n",
              "      <td>1.0470</td>\n",
              "      <td>3.0400</td>\n",
              "    </tr>\n",
              "    <tr>\n",
              "      <th>m_celeb_tv</th>\n",
              "      <td>4.2357</td>\n",
              "      <td>1.4524</td>\n",
              "      <td>4.0577</td>\n",
              "      <td>7.6656</td>\n",
              "    </tr>\n",
              "    <tr>\n",
              "      <th>m_wow_olv</th>\n",
              "      <td>2.4283</td>\n",
              "      <td>0.3336</td>\n",
              "      <td>1.6874</td>\n",
              "      <td>7.1370</td>\n",
              "    </tr>\n",
              "    <tr>\n",
              "      <th>m_wow_social</th>\n",
              "      <td>1.8112</td>\n",
              "      <td>0.2698</td>\n",
              "      <td>1.2142</td>\n",
              "      <td>5.3130</td>\n",
              "    </tr>\n",
              "    <tr>\n",
              "      <th>m_wow_tv</th>\n",
              "      <td>2.0766</td>\n",
              "      <td>0.5821</td>\n",
              "      <td>2.0002</td>\n",
              "      <td>3.8419</td>\n",
              "    </tr>\n",
              "  </tbody>\n",
              "</table>\n",
              "</div>"
            ],
            "text/plain": [
              "                   mean      p5     p50     p95\n",
              "channel                                        \n",
              "m_amaze_tot      3.3008  2.5144  3.3030  4.1013\n",
              "m_celeb_display  1.1610  0.2325  0.9038  2.9491\n",
              "m_celeb_outdoor  1.2824  0.2681  1.0470  3.0400\n",
              "m_celeb_tv       4.2357  1.4524  4.0577  7.6656\n",
              "m_wow_olv        2.4283  0.3336  1.6874  7.1370\n",
              "m_wow_social     1.8112  0.2698  1.2142  5.3130\n",
              "m_wow_tv         2.0766  0.5821  2.0002  3.8419"
            ]
          },
          "metadata": {},
          "output_type": "display_data"
        },
        {
          "name": "stdout",
          "output_type": "stream",
          "text": [
            "Source posterior variable(s): roi_m\n"
          ]
        }
      ],
      "source": [
        "# Posterior distribution plots for media effects (ROI per channel)\n",
        "import re\n",
        "import pandas as pd\n",
        "import numpy as np\n",
        "import matplotlib.pyplot as plt\n",
        "\n",
        "try:\n",
        "    import seaborn as sns  # nicer plots if available\n",
        "    _HAS_SEABORN = True\n",
        "except Exception:\n",
        "    _HAS_SEABORN = False\n",
        "\n",
        "# 1. Attempt to locate posterior samples for ROI parameters.\n",
        "roi_var_names = []\n",
        "roi_samples = None\n",
        "\n",
        "# Helper: collect candidate arrays (draws x channels OR draws x chains x channels)\n",
        "def _standardize(arr):\n",
        "    a = np.array(arr)\n",
        "    # Flatten chain dimension if present (chains, draws, channels) or (draws, channels)\n",
        "    if a.ndim == 3:  # (chains, draws, channels)\n",
        "        a = a.reshape(-1, a.shape[-1])\n",
        "    elif a.ndim == 2:\n",
        "        pass\n",
        "    else:\n",
        "        return None\n",
        "    return a\n",
        "\n",
        "# Try ArviZ inference data first\n",
        "idata = None\n",
        "for attr in [\"idata\", \"inference_data\", \"to_inference_data\"]:\n",
        "    if hasattr(mmm, attr):\n",
        "        try:\n",
        "            idata = getattr(mmm, attr)() if callable(getattr(mmm, attr)) else getattr(mmm, attr)\n",
        "        except Exception:\n",
        "            pass\n",
        "    if idata is not None:\n",
        "        break\n",
        "\n",
        "if idata is not None and hasattr(idata, \"posterior\"):\n",
        "    for var in idata.posterior.data_vars:\n",
        "        lname = var.lower()\n",
        "        if re.search(r\"roi\", lname):\n",
        "            arr = idata.posterior[var].values  # (chain, draw, …)\n",
        "            std = _standardize(arr)\n",
        "            if std is not None:\n",
        "                roi_var_names.append(var)\n",
        "                roi_samples = std  # take first matching ROI-like variable\n",
        "                break\n",
        "\n",
        "# Fallback: inspect attributes on mmm.samples or mmm\n",
        "if roi_samples is None:\n",
        "    for candidate_attr in [\"samples\", \"posterior_samples\", \"_posterior_samples\"]:\n",
        "        if hasattr(mmm, candidate_attr):\n",
        "            obj = getattr(mmm, candidate_attr)\n",
        "            # Look inside dict-like\n",
        "            if isinstance(obj, dict):\n",
        "                for k, v in obj.items():\n",
        "                    if re.search(r\"roi\", str(k).lower()):\n",
        "                        std = _standardize(v)\n",
        "                        if std is not None:\n",
        "                            roi_var_names.append(k)\n",
        "                            roi_samples = std\n",
        "                            break\n",
        "            if roi_samples is not None:\n",
        "                break\n",
        "\n",
        "# If still not found, abort gracefully\n",
        "if roi_samples is None:\n",
        "    print(\"Could not automatically locate ROI posterior samples. Inspect 'mmm' object manually.\")\n",
        "else:\n",
        "    # Determine channel labels\n",
        "    try:\n",
        "        channel_labels = channels  # from earlier cell\n",
        "    except NameError:\n",
        "        # Fallback: create generic names\n",
        "        channel_labels = [f\"channel_{i}\" for i in range(roi_samples.shape[1])]\n",
        "\n",
        "    if len(channel_labels) != roi_samples.shape[1]:\n",
        "        channel_labels = [f\"channel_{i}\" for i in range(roi_samples.shape[1])]\n",
        "\n",
        "    # Optional thinning if very large\n",
        "    max_draws = 20000\n",
        "    if roi_samples.shape[0] > max_draws:\n",
        "        step = int(np.ceil(roi_samples.shape[0] / max_draws))\n",
        "        roi_samples = roi_samples[::step]\n",
        "\n",
        "    df_roi = pd.DataFrame(roi_samples, columns=channel_labels)\n",
        "    df_long = df_roi.melt(var_name=\"channel\", value_name=\"roi\")\n",
        "\n",
        "    # Plot\n",
        "    plt.figure(figsize=(12, 6))\n",
        "    if _HAS_SEABORN:\n",
        "        sns.kdeplot(data=df_long, x=\"roi\", hue=\"channel\", common_norm=False, fill=False)\n",
        "    else:\n",
        "        # Manual KDE via histogram overlay\n",
        "        for ch in channel_labels:\n",
        "            plt.hist(df_roi[ch], bins=60, density=True, alpha=0.3, label=ch)\n",
        "    plt.title(\"Posterior Distributions of Media ROI Effects\")\n",
        "    plt.xlabel(\"ROI\")\n",
        "    plt.ylabel(\"Density\")\n",
        "    plt.legend(ncol=3, fontsize=8)\n",
        "    plt.tight_layout()\n",
        "    plt.show()\n",
        "\n",
        "    # Summary table (mean, 5%, 50%, 95%)\n",
        "    summary = df_long.groupby(\"channel\")[\"roi\"].quantile([0.05, 0.5, 0.95]).unstack()\n",
        "    summary[\"mean\"] = df_long.groupby(\"channel\")[\"roi\"].mean()\n",
        "    summary = summary[[\"mean\", 0.05, 0.5, 0.95]].rename(columns={0.05: \"p5\", 0.5: \"p50\", 0.95: \"p95\"})\n",
        "    display(summary.round(4))\n",
        "    if roi_var_names:\n",
        "        print(\"Source posterior variable(s):\", \", \".join(roi_var_names))\n"
      ]
    },
    {
      "cell_type": "code",
      "execution_count": null,
      "metadata": {},
      "outputs": [],
      "source": [
        "# Multi-chart prior vs posterior distributions for ROI per media channel\n",
        "import numpy as np, pandas as pd, matplotlib.pyplot as plt, re\n",
        "try:\n",
        "    import seaborn as sns\n",
        "    _HAS_SEABORN = True\n",
        "except Exception:\n",
        "    _HAS_SEABORN = False\n",
        "\n",
        "# ---- Helpers ----\n",
        "def _flatten(arr):\n",
        "    a = np.array(arr)\n",
        "    if a.ndim == 3:  # chains, draws, channels\n",
        "        return a.reshape(-1, a.shape[-1])\n",
        "    elif a.ndim == 2:  # draws, channels\n",
        "        return a\n",
        "    return None\n",
        "\n",
        "def _find_roi_matrix(idata_section):\n",
        "    \"\"\"Return first ROI-like var (name contains 'roi') as 2D matrix draws x channels.\"\"\"\n",
        "    if idata_section is None:\n",
        "        return None, None\n",
        "    for var in idata_section.data_vars:\n",
        "        lname = var.lower()\n",
        "        if 'roi' in lname:\n",
        "            mat = _flatten(idata_section[var].values)\n",
        "            if mat is not None and mat.ndim == 2:\n",
        "                return var, mat\n",
        "    return None, None\n",
        "\n",
        "# Attempt to obtain an InferenceData object\n",
        "data_sources = []\n",
        "idata = None\n",
        "for attr in [\"idata\", \"inference_data\", \"to_inference_data\"]:\n",
        "    if hasattr(mmm, attr):\n",
        "        try:\n",
        "            candidate = getattr(mmm, attr)() if callable(getattr(mmm, attr)) else getattr(mmm, attr)\n",
        "            # ArviZ InferenceData has 'posterior' attr\n",
        "            if hasattr(candidate, 'posterior'):\n",
        "                idata = candidate\n",
        "                break\n",
        "        except Exception:\n",
        "            pass\n",
        "\n",
        "if idata is None:\n",
        "    print(\"Could not access InferenceData on model; cannot auto-plot prior vs posterior ROI.\")\n",
        "else:\n",
        "    # Locate posterior ROI\n",
        "    post_name, post_mat = _find_roi_matrix(getattr(idata, 'posterior', None))\n",
        "    # Locate prior ROI (may be absent if not stored)\n",
        "    prior_name, prior_mat = _find_roi_matrix(getattr(idata, 'prior', None))\n",
        "\n",
        "    if post_mat is None:\n",
        "        print(\"No posterior ROI parameter found (name containing 'roi').\")\n",
        "    elif prior_mat is None:\n",
        "        print(\"No prior ROI samples available; plotting posterior only.\")\n",
        "    # Determine channel labels\n",
        "    try:\n",
        "        channel_labels = channels\n",
        "    except NameError:\n",
        "        channel_labels = [f\"channel_{i}\" for i in range(post_mat.shape[1])]\n",
        "    if len(channel_labels) != post_mat.shape[1]:\n",
        "        channel_labels = [f\"channel_{i}\" for i in range(post_mat.shape[1])]\n",
        "\n",
        "    n_ch = post_mat.shape[1]\n",
        "    ncols = min(4, n_ch)\n",
        "    nrows = int(np.ceil(n_ch / ncols))\n",
        "    fig, axes = plt.subplots(nrows, ncols, figsize=(4*ncols, 3*nrows), sharey=False)\n",
        "    axes = np.atleast_1d(axes).ravel()\n",
        "\n",
        "    for idx in range(n_ch):\n",
        "        ax = axes[idx]\n",
        "        post_series = post_mat[:, idx]\n",
        "        if prior_mat is not None:\n",
        "            prior_series = prior_mat[:, idx]\n",
        "        else:\n",
        "            prior_series = None\n",
        "\n",
        "        if _HAS_SEABORN:\n",
        "            if prior_series is not None:\n",
        "                sns.kdeplot(prior_series, ax=ax, color='tab:gray', linestyle='--', label='prior')\n",
        "            sns.kdeplot(post_series, ax=ax, color='tab:blue', label='posterior')\n",
        "        else:\n",
        "            # Fallback hist\n",
        "            if prior_series is not None:\n",
        "                ax.hist(prior_series, bins=40, density=True, alpha=0.4, color='gray', label='prior')\n",
        "            ax.hist(post_series, bins=40, density=True, alpha=0.4, color='blue', label='posterior')\n",
        "\n",
        "        ax.set_title(channel_labels[idx])\n",
        "        ax.set_xlabel('ROI')\n",
        "        ax.set_ylabel('Density')\n",
        "        ax.legend(fontsize=8)\n",
        "\n",
        "    for j in range(n_ch, len(axes)):\n",
        "        axes[j].axis('off')\n",
        "\n",
        "    fig.suptitle('Prior vs Posterior ROI Distributions per Media Channel', y=0.995)\n",
        "    plt.tight_layout(rect=[0,0,1,0.97])\n",
        "    plt.show()\n",
        "\n",
        "    # Summary table\n",
        "    def _summ(stats_arr):\n",
        "        return {\n",
        "            'mean': np.mean(stats_arr),\n",
        "            'p5': np.quantile(stats_arr, 0.05),\n",
        "            'p50': np.quantile(stats_arr, 0.50),\n",
        "            'p95': np.quantile(stats_arr, 0.95),\n",
        "        }\n",
        "\n",
        "    rows = []\n",
        "    for i, ch in enumerate(channel_labels):\n",
        "        row = {'channel': ch}\n",
        "        if prior_mat is not None:\n",
        "            row.update({f'prior_{k}': v for k, v in _summ(prior_mat[:, i]).items()})\n",
        "        row.update({f'posterior_{k}': v for k, v in _summ(post_mat[:, i]).items()})\n",
        "        rows.append(row)\n",
        "    summary_df = pd.DataFrame(rows)\n",
        "    display(summary_df.round(4))\n",
        "\n",
        "    meta = []\n",
        "    if prior_mat is not None:\n",
        "        meta.append(f\"prior var: {prior_name}\")\n",
        "    if post_mat is not None:\n",
        "        meta.append(f\"posterior var: {post_name}\")\n",
        "    if meta:\n",
        "        print(\" | \".join(meta))\n"
      ]
    }
  ],
  "metadata": {
    "accelerator": "GPU",
    "colab": {
      "gpuType": "T4",
      "include_colab_link": true,
      "private_outputs": true,
      "provenance": [],
      "toc_visible": true
    },
    "kernelspec": {
      "display_name": ".venv",
      "language": "python",
      "name": "python3"
    },
    "language_info": {
      "codemirror_mode": {
        "name": "ipython",
        "version": 3
      },
      "file_extension": ".py",
      "mimetype": "text/x-python",
      "name": "python",
      "nbconvert_exporter": "python",
      "pygments_lexer": "ipython3",
      "version": "3.12.0"
    }
  },
  "nbformat": 4,
  "nbformat_minor": 0
}
