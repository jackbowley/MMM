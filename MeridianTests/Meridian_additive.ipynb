{
  "cells": [
    {
      "cell_type": "markdown",
      "metadata": {
        "id": "view-in-github",
        "colab_type": "text"
      },
      "source": [
        "<a href=\"https://colab.research.google.com/github/jackbowley/MMM/blob/main/MeridianTests/Meridian_additive.ipynb\" target=\"_parent\"><img src=\"https://colab.research.google.com/assets/colab-badge.svg\" alt=\"Open In Colab\"/></a>"
      ]
    },
    {
      "cell_type": "markdown",
      "metadata": {
        "id": "yuQtvbG_vILv"
      },
      "source": [
        "<table class=\"tfo-notebook-buttons\" align=\"left\">\n",
        "  <td>\n",
        "    <a target=\"_blank\" href=\"https://colab.research.google.com/github/google/meridian/blob/main/demo/Meridian_Getting_Started.ipynb\"><img src=\"https://www.tensorflow.org/images/colab_logo_32px.png\" />Run in Google Colab</a>\n",
        "  </td>\n",
        "  <td>\n",
        "    <a target=\"_blank\" href=\"https://github.com/google/meridian/blob/main/demo/Meridian_Getting_Started.ipynb\"><img src=\"https://www.tensorflow.org/images/GitHub-Mark-32px.png\" />View source on GitHub</a>\n",
        "  </td>\n",
        "</table>\n"
      ]
    },
    {
      "cell_type": "markdown",
      "metadata": {
        "id": "KqSiFABximWU"
      },
      "source": [
        "# **Running test linear national models through meridian**\n"
      ]
    },
    {
      "cell_type": "markdown",
      "metadata": {
        "id": "GicRPam0mUhF"
      },
      "source": [
        "<a name=\"install\"></a>\n",
        "\n",
        "## Step 0: Install\n"
      ]
    },
    {
      "cell_type": "markdown",
      "metadata": {
        "id": "pDdX9WofM2fx"
      },
      "source": [
        "1\\. Make sure you are using one of the available GPU Colab runtimes which is **required** to run Meridian. You can change your notebook's runtime in `Runtime > Change runtime type` in the menu. All users can use the T4 GPU runtime which is sufficient to run the demo colab, free of charge. Users who have purchased one of Colab's paid plans have access to premium GPUs (such as V100, A100 or L4 Nvidia GPU).\n"
      ]
    },
    {
      "cell_type": "markdown",
      "metadata": {
        "id": "nFYRTDuesa1P"
      },
      "source": [
        "2\\. Install the latest version of Meridian, and verify that GPU is available.\n"
      ]
    },
    {
      "cell_type": "code",
      "execution_count": null,
      "metadata": {
        "id": "jBxu_AgS-gMI"
      },
      "outputs": [],
      "source": [
        "import sys, os\n",
        "IN_COLAB = ('google.colab' in sys.modules) or ('COLAB_RELEASE_TAG' in os.environ)"
      ]
    },
    {
      "cell_type": "code",
      "execution_count": null,
      "metadata": {
        "collapsed": true,
        "id": "h1jAk386jF3k"
      },
      "outputs": [],
      "source": [
        "# Install meridian: from PyPI @ latest release (robust in Colab and local Jupyter)\n",
        "import sys, subprocess\n",
        "pkg = \"google-meridian[colab,and-cuda]\" if IN_COLAB else \"google-meridian\"\n",
        "print(f\"Installing: {pkg}\")\n",
        "try:\n",
        "    subprocess.check_call([sys.executable, \"-m\", \"pip\", \"install\", \"--upgrade\", pkg])\n",
        "except Exception as e:\n",
        "    print(f\"pip install failed for {pkg}: {e}\")"
      ]
    },
    {
      "cell_type": "code",
      "execution_count": null,
      "metadata": {
        "id": "Fhwt1wzgLwpZ"
      },
      "outputs": [],
      "source": [
        "import arviz as az\n",
        "import IPython\n",
        "from meridian import constants\n",
        "from meridian.analysis import analyzer\n",
        "from meridian.analysis import formatter\n",
        "from meridian.analysis import optimizer\n",
        "from meridian.analysis import summarizer\n",
        "from meridian.analysis import visualizer\n",
        "from meridian.data import data_frame_input_data_builder as data_builder\n",
        "from meridian.data import test_utils\n",
        "from meridian.model import model\n",
        "from meridian.model import prior_distribution\n",
        "from meridian.model import spec\n",
        "import numpy as np\n",
        "import pandas as pd\n",
        "# check if GPU is available\n",
        "from psutil import virtual_memory\n",
        "import tensorflow as tf\n",
        "import tensorflow_probability as tfp\n",
        "\n",
        "if IN_COLAB:\n",
        "    from google.colab import drive\n",
        "\n",
        "\n",
        "ram_gb = virtual_memory().total / 1e9\n",
        "print('Your runtime has {:.1f} gigabytes of available RAM\\n'.format(ram_gb))\n",
        "print(\n",
        "    'Num GPUs Available: ',\n",
        "    len(tf.config.experimental.list_physical_devices('GPU')),\n",
        ")\n",
        "print(\n",
        "    'Num CPUs Available: ',\n",
        "    len(tf.config.experimental.list_physical_devices('CPU')),\n",
        ")\n"
      ]
    },
    {
      "cell_type": "markdown",
      "metadata": {
        "id": "0qCbVoKMIhEC"
      },
      "source": [
        "### Functions etc.\n"
      ]
    },
    {
      "cell_type": "code",
      "execution_count": null,
      "metadata": {
        "id": "EBxXU_sQM6Ml"
      },
      "outputs": [],
      "source": [
        "def import_df_from_drive(filepath):\n",
        "  \"\"\"Imports a CSV file from Google Drive into a pandas DataFrame.\n",
        "\n",
        "  Args:\n",
        "    filepath: The full path to the CSV file in Google Drive.\n",
        "\n",
        "  Returns:\n",
        "    A pandas DataFrame containing the data from the CSV file, or None if an error\n",
        "    occurs.\n",
        "  \"\"\"\n",
        "  try:\n",
        "    drive.mount('/content/drive', force_remount=False) # Force remount in case it's already mounted\n",
        "    df = pd.read_csv(filepath)\n",
        "    print(f\"DataFrame loaded successfully from {filepath}\")\n",
        "    return df\n",
        "  except FileNotFoundError:\n",
        "    print(f\"Error: The file was not found at {filepath}\")\n",
        "    return None\n",
        "  except Exception as e:\n",
        "    print(f\"An error occurred while reading the CSV file: {e}\")\n",
        "    return None\n"
      ]
    },
    {
      "cell_type": "code",
      "execution_count": null,
      "metadata": {
        "id": "6nchFpd9-gML"
      },
      "outputs": [],
      "source": [
        "def import_df_from_local(filename, base_dir='results'):\n",
        "    \"\"\"Imports a CSV file from a local 'results' folder into a pandas DataFrame.\n",
        "\n",
        "    Args:\n",
        "      filename: The CSV file name inside the results folder (e.g., 'data.csv').\n",
        "      base_dir: Base directory to look in (defaults to 'results').\n",
        "\n",
        "    Returns:\n",
        "      A pandas DataFrame containing the data from the CSV file, or None if an error occurs.\n",
        "    \"\"\"\n",
        "    try:\n",
        "        if not filename:\n",
        "            raise ValueError(\"filename must be provided, e.g., 'data.csv'\")\n",
        "        local_path = os.path.join(base_dir, filename)\n",
        "        if not os.path.isabs(local_path):\n",
        "            local_path = os.path.abspath(local_path)\n",
        "        df = pd.read_csv(local_path)\n",
        "        print(f\"DataFrame loaded successfully from {local_path}\")\n",
        "        return df\n",
        "    except FileNotFoundError:\n",
        "        print(f\"Error: The file was not found at {local_path}\")\n",
        "        return None\n",
        "    except Exception as e:\n",
        "        print(f\"An error occurred while reading the CSV file: {e}\")\n",
        "        return None\n"
      ]
    },
    {
      "cell_type": "markdown",
      "metadata": {
        "id": "kiM0UrN6qbIP"
      },
      "source": [
        "<a name=\"load-data\"></a>\n",
        "\n",
        "## Step 1: Load the data\n"
      ]
    },
    {
      "cell_type": "markdown",
      "metadata": {
        "id": "o8IUP4VCLuf3"
      },
      "source": [
        "### 1\\.1 Load Data\n"
      ]
    },
    {
      "cell_type": "code",
      "execution_count": null,
      "metadata": {
        "id": "03399c0e"
      },
      "outputs": [],
      "source": [
        "# Define the file path to your CSV file in Google Drive.\n",
        "if IN_COLAB:\n",
        "    base_dir = '/content/drive/MyDrive/work/MMM'\n",
        "    filename = 'data_add.csv'\n",
        "    df_data = import_df_from_drive(os.path.join(base_dir, filename))\n",
        "    filename= 'var_spec_add.csv'\n",
        "    df_var_spec = import_df_from_drive(os.path.join(base_dir, filename))\n",
        "    df_var_spec.head()\n",
        "else:\n",
        "    base_dir = 'results'\n",
        "    filename = 'data_add.csv'\n",
        "    df_data = import_df_from_local(filename, base_dir=base_dir)\n",
        "    filename = 'var_spec_add.csv'\n",
        "    df_var_spec = import_df_from_local(filename, base_dir=base_dir)"
      ]
    },
    {
      "cell_type": "code",
      "execution_count": null,
      "metadata": {
        "id": "Dxl0HWZnsxuo"
      },
      "outputs": [],
      "source": [
        "df = df_data.copy()\n",
        "df = df.dropna(subset=['svol_xf'])\n",
        "df = df.rename(columns={'Date': 'time'})\n",
        "start_date = '2020-06-02'\n",
        "end_date = '2024-08-27'\n",
        "df = df[(df['time'] >= start_date) & (df['time'] <= end_date)]"
      ]
    },
    {
      "cell_type": "markdown",
      "metadata": {
        "id": "8JBDZzl80BrY"
      },
      "source": [
        "2\\. Load Data using DataFrameInputDataBuilder\n"
      ]
    },
    {
      "cell_type": "code",
      "execution_count": null,
      "metadata": {
        "id": "4qdTSk4a0znn"
      },
      "outputs": [],
      "source": [
        "builder = data_builder.DataFrameInputDataBuilder(\n",
        "    kpi_type='non_revenue',\n",
        "    default_kpi_column='svol_xf',\n",
        "    default_revenue_per_kpi_column='price_se_xf',\n",
        ")\n",
        "\n",
        "controls = [\n",
        "    \"d_jan\",\"d_feb\",\"d_mar\",\"d_apr\",\"d_may\",\"d_sep\",\"d_oct\",\"d_nov\",\"d_dec\",\n",
        "    \"school_easter\",\"school_ht_feb\",\"school_ht_may\",\"school_ht_oct\",\"payday_25\",\n",
        "    \"bh_ny\",\"bh_xmas\",\"day_valentine\",\"ww_nat_dlta_maxtemp\",\"ww_nat_dlta_rain\",\n",
        "    \"ww_nat_dlta_sun\",\"rsi_nfood_vol_sa\",\"dist_xf\",\n",
        "    \"price_se_xf\",\"prom_tft\",\"pos_fsdu\",\"comp_lor_tot\",\"comp_no7_tot\"\n",
        "]\n",
        "\n",
        "channels = [\n",
        "    \"m_wow_tv\",\"m_wow_olv\",\"m_wow_social\",\"m_amaze_tot\",\"m_celeb_tv\",\"m_celeb_outdoor\",\"m_celeb_display\"\n",
        "]\n",
        "\n",
        "builder = (\n",
        "    builder\n",
        "        .with_kpi(df)\n",
        "        .with_revenue_per_kpi(df)\n",
        "        .with_controls(df, control_cols=controls)\n",
        ")\n",
        "\n",
        "builder = builder.with_media(\n",
        "    df,\n",
        "    media_cols=channels,\n",
        "    media_spend_cols=channels,\n",
        "    media_channels=channels,\n",
        ")\n",
        "\n",
        "data = builder.build()\n"
      ]
    },
    {
      "cell_type": "markdown",
      "metadata": {
        "id": "FO6pDd6f2V1L"
      },
      "source": [
        "<a name=\"configure-model\"></a>\n",
        "\n",
        "## Step 2: Configure the model\n"
      ]
    },
    {
      "cell_type": "markdown",
      "metadata": {
        "id": "a_mQI7HzxxK4"
      },
      "source": []
    },
    {
      "cell_type": "code",
      "execution_count": null,
      "metadata": {
        "id": "8XNDd7HX1qTn"
      },
      "outputs": [],
      "source": [
        "roi_mu = 0.2  # Mu for ROI prior for each media channel.\n",
        "roi_sigma = 0.9  # Sigma for ROI prior for each media channel.\n",
        "prior = prior_distribution.PriorDistribution(\n",
        "    roi_m=tfp.distributions.LogNormal(roi_mu, roi_sigma, name=constants.ROI_M)\n",
        ")\n",
        "model_spec = spec.ModelSpec(prior=prior)\n",
        "\n",
        "mmm = model.Meridian(input_data=data, model_spec=model_spec)"
      ]
    },
    {
      "cell_type": "markdown",
      "metadata": {
        "id": "kPQBPlX8cmEv"
      },
      "source": [
        "2\\. Use the `sample_prior()` and `sample_posterior()` methods to obtain samples from the prior and posterior distributions of model parameters. If you are using the T4 GPU runtime this step may take about 10 minutes for the provided data set.\n"
      ]
    },
    {
      "cell_type": "code",
      "execution_count": null,
      "metadata": {
        "id": "KVB3avRdcRNz"
      },
      "outputs": [],
      "source": [
        "%%time\n",
        "mmm.sample_prior(500)\n",
        "mmm.sample_posterior(\n",
        "    n_chains=10, n_adapt=2000, n_burnin=500, n_keep=1000, seed=0\n",
        ")"
      ]
    },
    {
      "cell_type": "markdown",
      "metadata": {
        "id": "5WUM2V26cspo"
      },
      "source": [
        "For more information about configuring the parameters and using a customized model specification, such as setting different ROI priors for each media channel, see [Configure the model](https://developers.google.com/meridian/docs/user-guide/configure-model).\n"
      ]
    },
    {
      "cell_type": "markdown",
      "metadata": {
        "id": "t9oECJwUdJTm"
      },
      "source": [
        "<a name=\"model-diagnostics\"></a>\n",
        "\n",
        "## Step 3: Run model diagnostics\n"
      ]
    },
    {
      "cell_type": "markdown",
      "metadata": {
        "id": "kSzK6JeMxrV6"
      },
      "source": [
        "After the model is built, you must assess convergence, debug the model if needed, and then assess the model fit.\n",
        "\n",
        "1\\. Assess convergence. Run the following code to generate r-hat statistics. R-hat close to 1.0 indicate convergence. R-hat < 1.2 indicates approximate convergence and is a reasonable threshold for many problems.\n"
      ]
    },
    {
      "cell_type": "code",
      "execution_count": null,
      "metadata": {
        "id": "rFuc7B86yLvM"
      },
      "outputs": [],
      "source": [
        "model_diagnostics = visualizer.ModelDiagnostics(mmm)\n",
        "model_diagnostics.plot_rhat_boxplot()"
      ]
    },
    {
      "cell_type": "markdown",
      "metadata": {
        "id": "nCwt5SGYxlaE"
      },
      "source": [
        "2\\. Assess the model's fit by comparing the expected sales against the actual sales.\n"
      ]
    },
    {
      "cell_type": "code",
      "execution_count": null,
      "metadata": {
        "id": "7Z4zJtHyyhif"
      },
      "outputs": [],
      "source": [
        "model_fit = visualizer.ModelFit(mmm)\n",
        "model_fit.plot_model_fit()"
      ]
    },
    {
      "cell_type": "markdown",
      "metadata": {
        "id": "76IBQcWLu980"
      },
      "source": [
        "For more information and additional model diagnostics checks, see [Modeling diagnostics](https://developers.google.com/meridian/docs/user-guide/model-diagnostics).\n"
      ]
    },
    {
      "cell_type": "markdown",
      "metadata": {
        "id": "zGUOFFbCdOtl"
      },
      "source": [
        "<a name=\"generate-summary\"></a>\n",
        "\n",
        "## Step 4: Generate model results & two-page output\n"
      ]
    },
    {
      "cell_type": "markdown",
      "metadata": {
        "id": "puHjkyvZEOEg"
      },
      "source": [
        "To export the two-page HTML summary output, initialize the `Summarizer` class with the model object. Then pass in the filename, filepath, start date, and end date to `output_model_results_summary` to run the summary for that time duration and save it to the specified file.\n"
      ]
    },
    {
      "cell_type": "code",
      "execution_count": null,
      "metadata": {
        "id": "keOpq1qKNbq0"
      },
      "outputs": [],
      "source": [
        "mmm_summarizer = summarizer.Summarizer(mmm)"
      ]
    },
    {
      "cell_type": "code",
      "execution_count": null,
      "metadata": {
        "id": "Ltr4uP80YQe7"
      },
      "outputs": [],
      "source": [
        "from google.colab import drive\n",
        "\n",
        "drive.mount('/content/drive')"
      ]
    },
    {
      "cell_type": "code",
      "execution_count": null,
      "metadata": {
        "id": "qbgNaDYpIfQl"
      },
      "outputs": [],
      "source": [
        "filepath = '/content/drive/MyDrive/work/MMM/'\n",
        "start_date = '2021-01-05'\n",
        "end_date = '2024-08-27'\n",
        "mmm_summarizer.output_model_results_summary(\n",
        "    'additive_mock_model_summary_output.html', filepath, start_date, end_date\n",
        ")"
      ]
    },
    {
      "cell_type": "markdown",
      "metadata": {
        "id": "j9sBxuvidmr8"
      },
      "source": [
        "Here is a preview of the two-page output based on the simulated data:\n"
      ]
    },
    {
      "cell_type": "code",
      "execution_count": null,
      "metadata": {
        "id": "vaUe7uZRfJPm"
      },
      "outputs": [],
      "source": [
        "IPython.display.HTML(filename='/content/drive/MyDrive/work/MMM/additive_mock_model_summary_output.html')"
      ]
    },
    {
      "cell_type": "markdown",
      "metadata": {
        "id": "PphWMfKdwPIw"
      },
      "source": [
        "For a customized two-page report, model results summary table, and individual visualizations, see [Model results report](https://developers.google.com/meridian/docs/user-guide/generate-model-results-report) and [plot media visualizations](https://developers.google.com/meridian/docs/user-guide/plot-media-visualizations).\n"
      ]
    },
    {
      "cell_type": "markdown",
      "metadata": {
        "id": "1kamZpyv8KMh"
      },
      "source": [
        "Run the following codes to save the model object:\n"
      ]
    },
    {
      "cell_type": "code",
      "execution_count": null,
      "metadata": {
        "id": "FfaQQ8-fTw0K"
      },
      "outputs": [],
      "source": [
        "file_path = '/content/drive/MyDrive/work/MMM/saved_mmm_additive.pkl'\n",
        "model.save_mmm(mmm, file_path)"
      ]
    },
    {
      "cell_type": "markdown",
      "metadata": {
        "id": "k2v_s2uS8PgA"
      },
      "source": [
        "Run the following codes to load the saved model:\n"
      ]
    },
    {
      "cell_type": "code",
      "execution_count": null,
      "metadata": {
        "id": "ZGUmiYI48epA"
      },
      "outputs": [],
      "source": [
        "mmm = model.load_mmm(file_path)"
      ]
    },
    {
      "cell_type": "markdown",
      "source": [],
      "metadata": {
        "id": "pd7sCt7gUr9J"
      }
    }
  ],
  "metadata": {
    "accelerator": "GPU",
    "colab": {
      "gpuType": "T4",
      "private_outputs": true,
      "provenance": [],
      "toc_visible": true,
      "include_colab_link": true
    },
    "kernelspec": {
      "display_name": ".venv",
      "language": "python",
      "name": "python3"
    },
    "language_info": {
      "codemirror_mode": {
        "name": "ipython",
        "version": 3
      },
      "file_extension": ".py",
      "mimetype": "text/x-python",
      "name": "python",
      "nbconvert_exporter": "python",
      "pygments_lexer": "ipython3",
      "version": "3.12.0"
    }
  },
  "nbformat": 4,
  "nbformat_minor": 0
}