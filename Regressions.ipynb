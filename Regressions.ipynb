{
 "cells": [
  {
   "cell_type": "code",
   "execution_count": 2,
   "id": "d318ad6e",
   "metadata": {},
   "outputs": [],
   "source": [
    "from notebook_functions import adstock, s_curve, create_transformed_tables, plot_stacked_area_with_actual, plot_transformed_vs_raw, plot_data_set\n",
    "import pandas as pd\n",
    "\n",
    "# Load CSVs as dataframes\n",
    "\n",
    "df_data = pd.read_csv('Data/df_data.csv', index_col=0, parse_dates=True)\n",
    "df_trans = pd.read_csv('Data/df_trans.csv', index_col=0, parse_dates=True)\n",
    "df_values = pd.read_csv('Data/df_values.csv', index_col=0, parse_dates=True)\n",
    "\n",
    "# df_data.head(), df_trans.head(), df_values.head()"
   ]
  },
  {
   "cell_type": "code",
   "execution_count": null,
   "id": "c9bf7d5c",
   "metadata": {},
   "outputs": [],
   "source": [
    "import statsmodels.api as sm\n",
    "\n",
    "# Prepare X and y for regression\n",
    "X = df_trans.copy()\n",
    "# Remove columns not needed (if any)\n",
    "X = X[[col for col in X.columns if col != 'actual' and col != 'error']]\n",
    "y = df_values['actual']\n",
    "\n",
    "# Add constant term for intercept\n",
    "X = sm.add_constant(X)\n",
    "\n",
    "# Fit OLS regression\n",
    "model = sm.OLS(y, X).fit()\n",
    "\n",
    "# Print summary\n",
    "print(model.summary())"
   ]
  }
 ],
 "metadata": {
  "kernelspec": {
   "display_name": ".venv",
   "language": "python",
   "name": "python3"
  },
  "language_info": {
   "codemirror_mode": {
    "name": "ipython",
    "version": 3
   },
   "file_extension": ".py",
   "mimetype": "text/x-python",
   "name": "python",
   "nbconvert_exporter": "python",
   "pygments_lexer": "ipython3",
   "version": "3.13.4"
  }
 },
 "nbformat": 4,
 "nbformat_minor": 5
}
